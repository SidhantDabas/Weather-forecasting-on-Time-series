{
  "cells": [
    {
      "cell_type": "markdown",
      "metadata": {
        "id": "g68QhqLYssQ8"
      },
      "source": [
        "# Imports and Reading Data"
      ]
    },
    {
      "cell_type": "code",
      "execution_count": null,
      "metadata": {
        "colab": {
          "base_uri": "https://localhost:8080/",
          "height": 429
        },
        "id": "SCS_3qYKssQ_",
        "outputId": "eb3ebb08-09b6-4d32-d4d6-260cf0ad1d97"
      },
      "outputs": [],
      "source": [
        "import numpy as np\n",
        "from random import choice\n",
        "import pandas as pd\n",
        "import timesfm\n",
        "from sklearn.preprocessing import StandardScaler\n",
        "from sklearn.compose import ColumnTransformer\n",
        "from sklearn.pipeline import Pipeline\n",
        "from sklearn.metrics import r2_score\n",
        "from collections import defaultdict\n",
        "import matplotlib.pyplot as plt\n",
        "\n",
        "df = pd.read_csv(r'/content/3hour.csv', parse_dates=True)\n",
        "# For topographic dataset use:\n",
        "# df = pd.read_csv(r'/content/3hour_top.csv', parse_dates=True)\n",
        "df.head(5)"
      ]
    },
    {
      "cell_type": "markdown",
      "metadata": {
        "id": "DKiZ6rgossRA"
      },
      "source": [
        "Plot WindSpd_01HrAvg"
      ]
    },
    {
      "cell_type": "code",
      "execution_count": null,
      "metadata": {
        "colab": {
          "base_uri": "https://localhost:8080/",
          "height": 466
        },
        "id": "sGWokAxSIL-1",
        "outputId": "b5c43547-ee63-43db-c95b-8e14126e1236"
      },
      "outputs": [],
      "source": [
        "df.set_index('time')['WindSpd_01HrAvg'].plot()"
      ]
    },
    {
      "cell_type": "markdown",
      "metadata": {
        "id": "Del0W2SLIsyV"
      },
      "source": [
        "# Data Preparation"
      ]
    },
    {
      "cell_type": "markdown",
      "metadata": {
        "id": "lIsqX16SIe3F"
      },
      "source": [
        "## Group by station ID and extract the test set for each station"
      ]
    },
    {
      "cell_type": "code",
      "execution_count": null,
      "metadata": {
        "colab": {
          "base_uri": "https://localhost:8080/"
        },
        "id": "ygALM_o8Lz_K",
        "outputId": "e6fa1d51-39c8-4ff0-891f-564845b8809c"
      },
      "outputs": [],
      "source": [
        "# Initialize a dictionary to store the test DataFrame for each station\n",
        "stations_test_splits = {}\n",
        "\n",
        "# Group by station ID and extract the test set for each station\n",
        "for station_id, station_df in df.groupby('station_id'):  # 'station_id' is the column in the DataFrame\n",
        "    # Use the last 20% of each station's data as the test set\n",
        "    n_total = len(station_df)\n",
        "    test_df = station_df.iloc[int(0.8 * n_total):]  # The last 20% as test data\n",
        "\n",
        "    # Store the test set for the station\n",
        "    stations_test_splits[station_id] = test_df\n",
        "\n",
        "    # Print to confirm the split\n",
        "    print(f\"Station {station_id}: Test set size = {len(test_df)}\")"
      ]
    },
    {
      "cell_type": "markdown",
      "metadata": {
        "id": "ZIqaDpjTI4pk"
      },
      "source": [
        "## Define Covariates and target"
      ]
    },
    {
      "cell_type": "code",
      "execution_count": 6,
      "metadata": {
        "id": "804p2DUXssRB"
      },
      "outputs": [],
      "source": [
        "# Covariates\n",
        "X_cols = [ 'Data_Time_Day__', 'Data_Time_Hour_', 'Data_Time_Month', 'Data_Time_Year_',\n",
        "          'wspk10m', 'uuu30m', 'vvv10m', 'lapprs900hPa', 'uuu10m', 'wspk115m',\n",
        "           'vvv850hPa', 'wspk850hPa', 'mgust', 'vvv30m', 'swdown', 'uuu500m',\n",
        "           'v100m_EE', 'tdwpt_EE', 'f10m_EE', 'g10m_EE', 'gust10_inst_EE',\n",
        "           'f100m_EE', 'tmax_EE', 'u100m_EE', 'u10m_EE', 'v10m_EE', 'u100m_ES',\n",
        "           'f100m_ES', 'rh_ES', 'ws850p_ES', 'g10m_ES', 'u10m_ES', 'u925p_ES',\n",
        "           'u850p_ES', 'f10m_ES', 'v925p_ES']\n",
        "# Target Feature\n",
        "Y_col =  \"WindSpd_01HrAvg\""
      ]
    },
    {
      "cell_type": "code",
      "execution_count": null,
      "metadata": {
        "colab": {
          "base_uri": "https://localhost:8080/"
        },
        "id": "kOSLX-NmOmvH",
        "outputId": "0666516d-ffc1-4178-8843-1fd5e63a3aef"
      },
      "outputs": [],
      "source": [
        "for station_id, test_df in stations_test_splits.items():\n",
        "    # Format the test DataFrame\n",
        "    test_df.loc[:, \"unique_id\"] = test_df[\"station_id\"]\n",
        "    test_df.loc[:, \"ds\"] = test_df[\"time\"]\n",
        "    test_df.loc[:, \"y\"] = test_df[\"WindSpd_01HrAvg\"]\n",
        "    # Static covariates\n",
        "    static_cols = [\"Stn_Numeric_ID_\"]\n",
        "\n",
        "    # Dynamic covariates\n",
        "    dynamic_cols = X_cols"
      ]
    },
    {
      "cell_type": "markdown",
      "metadata": {
        "id": "pnRjS7DfssRB"
      },
      "source": [
        "# Defining a custom batching function which creates batches including covariates\n"
      ]
    },
    {
      "cell_type": "code",
      "execution_count": 8,
      "metadata": {
        "id": "WDscfE1LssRC"
      },
      "outputs": [],
      "source": [
        "def get_batched_data_fn(df, dynamic_cols, static_cols,  batch_size=64, context_len=512, horizon_len=36):\n",
        "    examples = defaultdict(list)\n",
        "\n",
        "    for station_id in df[\"unique_id\"].unique():\n",
        "        sub_df = df[df[\"unique_id\"] == station_id]\n",
        "\n",
        "        for start in range(0, len(sub_df) - (context_len + horizon_len), horizon_len):\n",
        "            context_end = start + context_len\n",
        "\n",
        "            # Collect inputs (target y values in the context)\n",
        "            examples[\"unique_id\"].append(station_id)\n",
        "            examples[\"inputs\"].append(sub_df[\"y\"][start:context_end].tolist())\n",
        "\n",
        "            # Collect dynamic covariates (exogenous variables)\n",
        "            for col in dynamic_cols:\n",
        "                examples[col].append(sub_df[col][start:context_end + horizon_len].tolist())\n",
        "\n",
        "            # Collect outputs (target y values in the forecast horizon)\n",
        "            examples[\"outputs\"].append(sub_df[\"y\"][context_end:context_end + horizon_len].tolist())\n",
        "\n",
        "    def data_fn():\n",
        "        for i in range(0, len(examples[\"unique_id\"]), batch_size):\n",
        "            yield {k: v[i:i + batch_size] for k, v in examples.items()}\n",
        "\n",
        "    return data_fn"
      ]
    },
    {
      "cell_type": "markdown",
      "metadata": {
        "id": "L8RVP2uqJ3M4"
      },
      "source": [
        "## Initialising TimesFM with 20 layers and 64 batch size"
      ]
    },
    {
      "cell_type": "code",
      "execution_count": 9,
      "metadata": {
        "id": "9JzyBp99ssRC"
      },
      "outputs": [],
      "source": [
        "batch_size = 64\n",
        "context_len = 512\n",
        "horizon_len = 36"
      ]
    },
    {
      "cell_type": "code",
      "execution_count": null,
      "metadata": {
        "colab": {
          "base_uri": "https://localhost:8080/",
          "height": 249,
          "referenced_widgets": [
            "84e34b4a8a804bf5ab0654aceff45562",
            "b2feb92b9c764d41871b9941d83be0dc",
            "b78277c5c15b472d99b2cfee0b5ee961",
            "9a2f2c9bcad245b1892aee033ec1ac65",
            "b6a2d2d5183145db9d70355902e7e430",
            "50f63bf97e0f4e0ebbedabe9e3c3a0c1",
            "ac889cb6e6d742a49739cc73a0e7bd1c",
            "f61bbee1369c4ae699461890ec318831",
            "b06536f70fb048f4b434a3692ccb5033",
            "04e39009e979432cbf3ec6f651b481b7",
            "ffbb4a208ca14f189fe3b171febc8e92",
            "5bc96a776b0441cb81cb5583cfa45743",
            "ed2440e4324e4c24a936bbcdb22e019e",
            "6f2800b11a14432aaed778e08f2977b4",
            "eca500607d3c494f80e517b05a6b2df5",
            "57cacdb17bf644e895f2027c4b360189",
            "24ff77723ebe4e429f0186723078d146",
            "23f83ed4ad39479bae7fb6a2a2759d9a",
            "6bf110b0933c4f5092fdcd9b630626c8",
            "8bfa74b6f66e455b8bd4a8ca18d4a8a5",
            "b8b7e7897d2649eba50a04ba7842c4dd",
            "eee37c87f2954cab95c06c6b5cfd99ea",
            "04ca39e065344485b141101e8ee2f221",
            "12e2213aedb84694b522969b769a2e79",
            "0c72376515ca40aea760303825ff1d73",
            "a3a099e49f624f3db3446c61a4781a6f",
            "ea8368e3e7d044ef86ce6deb2b0e2735",
            "df703cfb2fae4aec9e6b2ab8178ac946",
            "5634f4b83833426898c1641f9a063c73",
            "d14ab1d4a04545b2a3246013349f50c4",
            "cb8e6235f9694a1b8aaf20dbe4357231",
            "3bf5a2c0fc57451a89caafdca35b5e2d",
            "0c8a4c2a3be24415b618393509e28923",
            "5ed460f4948249cdaacec905d13102ca",
            "d3e61e5677b3473883e412e44897c9f5",
            "a9e667797295479180281f8375b81330",
            "4b6e9d69c3a449f38928d135999ae0a3",
            "905d208c60904e23ba2f15bcfbafb3ae",
            "6bdaeba4e6a440bdb2ccd166d0b6212f",
            "3fe80b19b634426392f47668feb55221",
            "9ebc23c3665d4a458c6441a1c7374a54",
            "513585788eac4ddf9d2e55e1dccb87a8",
            "ef4aaa26a53f41b193692eced4593408",
            "e1749e98949e4e1c865ea07dc435b615"
          ]
        },
        "id": "3yoxwKJHssRD",
        "outputId": "c1366b23-15fd-43cc-fb6e-0745d3c31384"
      },
      "outputs": [],
      "source": [
        "tfm = timesfm.TimesFm(\n",
        "    hparams=timesfm.TimesFmHparams(\n",
        "        backend=\"cpu\",\n",
        "        per_core_batch_size=32,\n",
        "        horizon_len=horizon_len,\n",
        "        input_patch_len=32, #default and should not be changed for 200M model\n",
        "        output_patch_len=128, #default and should not be changed for 200M model\n",
        "        num_layers=20, #default and should not be changed for 200M model\n",
        "        model_dims=1280, #default and should not be changed for 200M model\n",
        "    ),\n",
        "    checkpoint=timesfm.TimesFmCheckpoint(\n",
        "        huggingface_repo_id=\"google/timesfm-1.0-200m-pytorch\"\n",
        "    ),\n",
        ")"
      ]
    },
    {
      "cell_type": "markdown",
      "metadata": {
        "id": "rti--yNZLL9M"
      },
      "source": [
        "# Defining functions for calculating metrics"
      ]
    },
    {
      "cell_type": "code",
      "execution_count": 11,
      "metadata": {
        "id": "hR6EAM3SssRD"
      },
      "outputs": [],
      "source": [
        "# Function to calculate Mean Absolute Error (MAE)\n",
        "def mae(y_pred, y_true, aggregate=True):\n",
        "    y_pred = np.array(y_pred)\n",
        "    y_true = np.array(y_true)\n",
        "    return np.mean(np.abs(y_pred - y_true))\n",
        "\n",
        "# Function to calculate Mean Squared Error (MSE)\n",
        "def mse(y_pred, y_true, aggregate=True):\n",
        "    y_pred = np.array(y_pred)\n",
        "    y_true = np.array(y_true)\n",
        "    return np.mean(np.square(y_pred - y_true))\n",
        "\n",
        "\n",
        "#Calculate R² (coefficient of determination).\n",
        "def r2_score(y_true, y_pred):\n",
        "    y_true = np.array(y_true)\n",
        "    y_pred = np.array(y_pred)\n",
        "    ss_res = np.sum((y_true - y_pred) ** 2)\n",
        "    ss_tot = np.sum((y_true - np.mean(y_true)) ** 2)\n",
        "    if ss_tot == 0:\n",
        "        return float('nan')\n",
        "    return 1 - (ss_res / ss_tot)"
      ]
    },
    {
      "cell_type": "markdown",
      "metadata": {
        "id": "HpQZf28ILlcF"
      },
      "source": [
        "# fcast_timesfm Function\n",
        "This function handles the forecasting task for a batch of time-series data using the TimesFM model. It computes forecasting metrics for each batch and aggregates the results."
      ]
    },
    {
      "cell_type": "code",
      "execution_count": 12,
      "metadata": {
        "id": "w9QjjFWdssRD"
      },
      "outputs": [],
      "source": [
        "def fcast_timesfm(input_data, dynamic_cols, xreg_mode=\"xreg + timesfm\"):\n",
        "    # Initialize aggregated metrics and forecasts\n",
        "    metrics = {'mae': [], 'mse': [], 'r2': []}\n",
        "    forecasts = {'cov_forecast': [], 'ols_forecast': []}\n",
        "\n",
        "    for i, example in enumerate(input_data()):\n",
        "        # Perform forecasting using TimesFM\n",
        "        cov_forecast, ols_forecast = tfm.forecast_with_covariates(\n",
        "            inputs=example[\"inputs\"],\n",
        "            dynamic_numerical_covariates={col: example[col] for col in dynamic_cols},\n",
        "            static_categorical_covariates={\"unique_id\": example[\"unique_id\"]},\n",
        "            freq=[0] * len(example[\"inputs\"]),\n",
        "            xreg_mode=xreg_mode,\n",
        "            ridge=0.0,\n",
        "            force_on_cpu=False,\n",
        "            normalize_xreg_target_per_input=True\n",
        "        )\n",
        "\n",
        "        # Convert predictions and outputs to NumPy arrays\n",
        "        outputs = np.array(example[\"outputs\"])\n",
        "        cov_forecast = np.array(cov_forecast)\n",
        "\n",
        "        # Calculate batch-level metrics\n",
        "        batch_mae = mae(cov_forecast, outputs)\n",
        "        batch_mse = mse(cov_forecast, outputs)\n",
        "        batch_r2 = (\n",
        "            r2_score(outputs, cov_forecast)\n",
        "            if len(outputs) > 1 else None  # Skip R² for small batches\n",
        "        )\n",
        "\n",
        "        # Append aggregated metrics\n",
        "        metrics['mae'].append(batch_mae)\n",
        "        metrics['mse'].append(batch_mse)\n",
        "        if batch_r2 is not None:\n",
        "            metrics['r2'].append(batch_r2)\n",
        "\n",
        "        # Store forecasts\n",
        "        forecasts['cov_forecast'].append(cov_forecast)\n",
        "        forecasts['ols_forecast'].append(ols_forecast)\n",
        "\n",
        "        # Print batch metrics\n",
        "        print(f\"Batch {i} - MAE: {batch_mae:.2f}, MSE: {batch_mse:.2f}, R²: {batch_r2 if batch_r2 is not None else 'N/A'}\")\n",
        "\n",
        "    # Compute overall average metrics\n",
        "    average_mae = np.mean(metrics['mae'])\n",
        "    average_mse = np.mean(metrics['mse'])\n",
        "    average_r2 = np.mean(metrics['r2']) if metrics['r2'] else None  # Handle empty R² case\n",
        "\n",
        "    # Print overall metrics\n",
        "    print(f\"Overall Metrics - MAE: {average_mae:.2f}, MSE: {average_mse:.2f}, R²: {average_r2 if average_r2 is not None else 'N/A'}\")\n",
        "\n",
        "    return metrics, forecasts\n"
      ]
    },
    {
      "cell_type": "markdown",
      "metadata": {
        "id": "UfPZX9LwRvfw"
      },
      "source": [
        "# Defining Evaluation Function\n",
        "This code evaluates by looping through different horizon lengths and stations, calling the fcast_timesfm function for each configuration, and compiling the results."
      ]
    },
    {
      "cell_type": "code",
      "execution_count": 13,
      "metadata": {
        "id": "pA8kHKkvTwdA"
      },
      "outputs": [],
      "source": [
        "def evaluate_forecasting(\n",
        "    stations_test_splits,\n",
        "    dynamic_cols,\n",
        "    static_cols,\n",
        "    batch_size,\n",
        "    context_len,\n",
        "    horizon_range,\n",
        "    mode\n",
        "):\n",
        "    \"\"\"\n",
        "    Evaluate forecasting performance across different horizons and stations.\n",
        "\n",
        "    Parameters:\n",
        "    - stations_test_splits: dict of station IDs to test DataFrames.\n",
        "    - dynamic_cols: List of dynamic columns used in forecasting.\n",
        "    - static_cols: List of static columns used in forecasting.\n",
        "    - batch_size: Batch size for input data.\n",
        "    - context_len: Context length for TimesFM input.\n",
        "    - horizon_range: Range of horizons to evaluate (e.g., range(1, 37)).\n",
        "\n",
        "    Returns:\n",
        "    - metrics_base_df: Pandas DataFrame containing the evaluation metrics.\n",
        "    \"\"\"\n",
        "    import numpy as np\n",
        "    import pandas as pd\n",
        "\n",
        "    metrics_list = []\n",
        "\n",
        "    # Evaluate for each horizon length\n",
        "    for horizon_len in horizon_range:\n",
        "        print(f\"Evaluating for Horizon Length: {horizon_len}\")\n",
        "\n",
        "        for station_id, test_df in stations_test_splits.items():\n",
        "            print(f\"Evaluating for Station ID: {station_id}\")\n",
        "\n",
        "            # Generate batched data with the current horizon\n",
        "            input_data = get_batched_data_fn(\n",
        "                test_df,\n",
        "                dynamic_cols,\n",
        "                static_cols,\n",
        "                batch_size=batch_size,\n",
        "                context_len=context_len,\n",
        "                horizon_len=horizon_len\n",
        "            )\n",
        "\n",
        "            # Count batches for verification\n",
        "            batch_count = sum(1 for _ in input_data())\n",
        "            print(f\"Horizon: {horizon_len}, Station: {station_id}, Batches: {batch_count}\")\n",
        "\n",
        "            # Perform forecasting and capture metrics\n",
        "            metrics_base, forecasts = fcast_timesfm(input_data, dynamic_cols, xreg_mode=mode)\n",
        "\n",
        "            # Calculate overall metrics for the current horizon\n",
        "            mae_mean = np.mean(metrics_base['mae'])\n",
        "            mse_mean = np.mean(metrics_base['mse'])\n",
        "            r2_mean = np.nanmean(metrics_base['r2']) if metrics_base['r2'] else None\n",
        "\n",
        "            # Append metrics to the results list\n",
        "            metrics_list.append({\n",
        "                \"Horizon Length\": horizon_len,\n",
        "                \"Station ID\": station_id,\n",
        "                \"MAE\": mae_mean,\n",
        "                \"MSE\": mse_mean,\n",
        "                \"R²\": r2_mean\n",
        "            })\n",
        "\n",
        "    # Convert metrics list to DataFrame\n",
        "    metrics_base_df = pd.DataFrame(metrics_list)\n",
        "\n",
        "    return metrics_base_df\n"
      ]
    },
    {
      "cell_type": "markdown",
      "metadata": {
        "id": "sqKhQtDEYPRL"
      },
      "source": [
        "# Evaluate"
      ]
    },
    {
      "cell_type": "code",
      "execution_count": null,
      "metadata": {
        "colab": {
          "base_uri": "https://localhost:8080/"
        },
        "id": "3ti_I6M6PTET",
        "outputId": "7931edae-46f1-4c75-b695-55868fd1e8b1"
      },
      "outputs": [],
      "source": [
        "result_xtfm_df = evaluate_forecasting(\n",
        "    stations_test_splits=stations_test_splits,# Your dictionary of test splits\n",
        "    dynamic_cols=dynamic_cols,                # List of dynamic columns\n",
        "    static_cols=static_cols,                  # List of static columns\n",
        "    batch_size=batch_size,                    # Batch size for data\n",
        "    context_len=context_len,                  # Context length\n",
        "    horizon_range=range(1, 6),                # Horizon range\n",
        "    mode=\"xreg + timesfm\"                     # TFM mode\n",
        ")"
      ]
    },
    {
      "cell_type": "code",
      "execution_count": null,
      "metadata": {
        "colab": {
          "base_uri": "https://localhost:8080/"
        },
        "id": "bynEriONXihZ",
        "outputId": "19461175-3b5b-40d6-c40a-5da0ab6d2f47"
      },
      "outputs": [],
      "source": [
        "result_tfmx_df = evaluate_forecasting(\n",
        "    stations_test_splits=stations_test_splits,# test splits\n",
        "    dynamic_cols=dynamic_cols,                # List of dynamic columns\n",
        "    static_cols=static_cols,                  # List of static columns\n",
        "    batch_size=batch_size,                    # Batch size for data\n",
        "    context_len=context_len,                  # Context length\n",
        "    horizon_range=range(1, 6),                # Horizon range\n",
        "    mode=\"timesfm + xreg\"                     # TFM mode\n",
        ")"
      ]
    },
    {
      "cell_type": "markdown",
      "metadata": {
        "id": "1Uf3TQDXssRD"
      },
      "source": [
        "# Scaling\n",
        "\n",
        "Scaling the covariates"
      ]
    },
    {
      "cell_type": "code",
      "execution_count": 16,
      "metadata": {
        "id": "osLHucCBssRD"
      },
      "outputs": [],
      "source": [
        "time_features = ['Data_Time_Day__','Data_Time_Hour_', 'Data_Time_Month', 'Data_Time_Year_']\n",
        "\n",
        "features_to_scale = ['wspk10m', 'uuu30m', 'vvv10m', 'lapprs900hPa',\n",
        "        'uuu10m', 'wspk115m', 'vvv850hPa', 'wspk850hPa', 'mgust', 'vvv30m',\n",
        "        'swdown', 'uuu500m', 'v100m_EE', 'tdwpt_EE', 'f10m_EE', 'g10m_EE',\n",
        "        'gust10_inst_EE', 'f100m_EE', 'tmax_EE', 'u100m_EE', 'u10m_EE',\n",
        "        'v10m_EE', 'u100m_ES', 'f100m_ES', 'rh_ES', 'ws850p_ES', 'g10m_ES',\n",
        "        'u10m_ES', 'u925p_ES', 'u850p_ES', 'f10m_ES', 'v925p_ES']\n",
        "\n",
        "preprocessor = ColumnTransformer(\n",
        "    transformers=[\n",
        "        ('scaler', StandardScaler(), features_to_scale)\n",
        "    ],\n",
        "    remainder='passthrough'\n",
        ")\n",
        "\n",
        "# Fit and transform the data\n",
        "scaled_data = preprocessor.fit_transform(df[features_to_scale])\n",
        "scaled_df = pd.DataFrame(scaled_data, columns=features_to_scale)\n",
        "scaled_df[time_features] = df[time_features]\n",
        "scaled_df['y'] = df['WindSpd_01HrAvg']\n",
        "scaled_df['unique_id'] = df['station_id']\n",
        "scaled_df['ds'] = pd.to_datetime(df['time'])"
      ]
    },
    {
      "cell_type": "markdown",
      "metadata": {
        "id": "p3V4rHMMssRE"
      },
      "source": [
        "Adding sin and cos of time components"
      ]
    },
    {
      "cell_type": "code",
      "execution_count": 17,
      "metadata": {
        "id": "Y6LZy161ssRE"
      },
      "outputs": [],
      "source": [
        "def add_local_time_components(df : pd.DataFrame, utc_offset : float = 0.) -> pd.DataFrame:\n",
        "    \"\"\" Adding local time and day/year components\"\"\"\n",
        "    # Local time\n",
        "    df = df.assign(local_time=df.index + pd.Timedelta(hours=utc_offset))\n",
        "    # add year phase (cos(solstice angle) and sin(solstice))\n",
        "    year_angle = (df.index.dayofyear - 172)/365.25*2*np.pi\n",
        "    df = df.assign(year_cos = np.cos(year_angle),\n",
        "                   year_sin = np.sin(year_angle))\n",
        "    # add local time of the day (forecast time is UTC, might need to change with longitude instead)\n",
        "    day_angle = (df.index.hour + utc_offset -12)/24*2*np.pi\n",
        "    df = df.assign(hour_local_cos= np.cos(day_angle),\n",
        "                   hour_local_sin = np.sin(day_angle))\n",
        "\n",
        "    return df\n",
        "\n",
        "scaled_df_timec = add_local_time_components(scaled_df.set_index('ds'), utc_offset=12.).reset_index()"
      ]
    },
    {
      "cell_type": "code",
      "execution_count": null,
      "metadata": {
        "colab": {
          "base_uri": "https://localhost:8080/",
          "height": 176
        },
        "id": "v61OdC1_ssRE",
        "outputId": "ebbf6164-054d-40ff-aa23-1098e7f0a88b"
      },
      "outputs": [],
      "source": [
        "scaled_df_timec.head(2)"
      ]
    },
    {
      "cell_type": "code",
      "execution_count": 19,
      "metadata": {
        "id": "4LNYSmNQVicR"
      },
      "outputs": [],
      "source": [
        "static_cols = [\"Stn_Numeric_ID_\"]\n",
        "dynamic_cols = features_to_scale + time_features"
      ]
    },
    {
      "cell_type": "code",
      "execution_count": 20,
      "metadata": {
        "id": "EIfHWW-QV_yA"
      },
      "outputs": [],
      "source": [
        "stations_test_splits = {}\n",
        "for unique_id, station_df in scaled_df_timec.groupby('unique_id'):\n",
        "    test_df = station_df.iloc[int(0.8 * len(station_df)):].copy()\n",
        "    stations_test_splits[unique_id] = test_df"
      ]
    },
    {
      "cell_type": "code",
      "execution_count": 21,
      "metadata": {
        "id": "V2ucqgxaWEx5"
      },
      "outputs": [],
      "source": [
        "# Format the test DataFrame for each station\n",
        "for station_id, test_df in stations_test_splits.items():\n",
        "    test_df[\"ds\"] = scaled_df_timec.loc[test_df.index, \"ds\"]\n",
        "    test_df[\"y\"] = scaled_df_timec.loc[test_df.index, \"y\"]\n"
      ]
    },
    {
      "cell_type": "markdown",
      "metadata": {
        "id": "wut0WuCDYGGH"
      },
      "source": [
        "# Evaluate Scaled Dataset"
      ]
    },
    {
      "cell_type": "code",
      "execution_count": null,
      "metadata": {
        "colab": {
          "base_uri": "https://localhost:8080/"
        },
        "id": "Cl0M4K3zWOcA",
        "outputId": "b266a77f-b82c-4f86-cea2-1deffc239fdc"
      },
      "outputs": [],
      "source": [
        "result_base_scaled_xtfm_df = evaluate_forecasting(\n",
        "    stations_test_splits=stations_test_splits,# test splits\n",
        "    dynamic_cols=dynamic_cols,                # List of dynamic columns\n",
        "    static_cols=static_cols,                  # List of static columns\n",
        "    batch_size=batch_size,                    # Batch size for data\n",
        "    context_len=context_len,                  # Context length\n",
        "    horizon_range=range(1, 6),                # Horizon range\n",
        "    mode=\"xreg + timesfm\"                     # TFM mode\n",
        ")"
      ]
    },
    {
      "cell_type": "code",
      "execution_count": null,
      "metadata": {
        "colab": {
          "base_uri": "https://localhost:8080/"
        },
        "id": "GvKejtXSXTG0",
        "outputId": "b223c868-bce2-45ef-b8f4-a8b30bbabe78"
      },
      "outputs": [],
      "source": [
        "result_scaled_tfmx_df = evaluate_forecasting(\n",
        "    stations_test_splits=stations_test_splits,# test splits\n",
        "    dynamic_cols=dynamic_cols,                # List of dynamic columns\n",
        "    static_cols=static_cols,                  # List of static columns\n",
        "    batch_size=batch_size,                    # Batch size for data\n",
        "    context_len=context_len,                  # Context length\n",
        "    horizon_range=range(1, 6),                # Horizon range\n",
        "    mode=\"timesfm + xreg\"                     # TFM mode\n",
        ")"
      ]
    },
    {
      "cell_type": "markdown",
      "metadata": {
        "id": "OyxFWk7mssRE"
      },
      "source": [
        "# Plotting Metrics comparing configurations\n",
        "\n",
        "This shows no difference in metrics when scaled"
      ]
    },
    {
      "cell_type": "code",
      "execution_count": null,
      "metadata": {
        "colab": {
          "base_uri": "https://localhost:8080/",
          "height": 564
        },
        "id": "6YFK6wGcssRE",
        "outputId": "4534b9f5-d0c2-4c62-a058-cbce4a427e53"
      },
      "outputs": [],
      "source": [
        "# Filter the DataFrames for Station ID 93831.0\n",
        "metric_base_station = result_xtfm_df[result_xtfm_df[\"Station ID\"] == 93831.0]\n",
        "metric_scaled_station = result_base_scaled_xtfm_df[result_base_scaled_xtfm_df[\"Station ID\"] == 93831.0]\n",
        "metric_tfm_station = result_tfmx_df[result_tfmx_df[\"Station ID\"] == 93831.0]\n",
        "metric_scaled_tfmx_station = result_scaled_tfmx_df[result_scaled_tfmx_df[\"Station ID\"] == 93831.0]\n",
        "# Ensure the filtered DataFrames are not empty\n",
        "if metric_base_station.empty or metric_scaled_station.empty or metric_tfm_station.empty:\n",
        "    print(\"Error: Station ID 93831.0 not found in one or more DataFrames.\")\n",
        "else:\n",
        "    # Extract the MAE All values across horizons\n",
        "    base_mae_all = metric_base_station[\"MAE\"].values  # Extract as a sequence\n",
        "    scaled_mae_all = metric_scaled_station[\"MAE\"].values  # Extract as a sequence\n",
        "    tfm_mae_all = metric_tfm_station[\"MAE\"].values  # Extract as a sequence\n",
        "    scaled_tfmx_mae_all = metric_scaled_tfmx_station[\"MAE\"].values  # Extract as a sequence\n",
        "    # Plot the MAE for the specific station\n",
        "    plt.figure(figsize=(10, 6))\n",
        "    plt.plot(metric_base_station[\"Horizon Length\"], base_mae_all, label=\"xreg + timesfm\")\n",
        "    plt.plot(metric_scaled_station[\"Horizon Length\"], scaled_mae_all, label=\"Scaled, xreg + timesfm\")\n",
        "    plt.plot(metric_tfm_station[\"Horizon Length\"], tfm_mae_all, label=\"timesfm + xreg\")\n",
        "    plt.plot(metric_scaled_tfmx_station[\"Horizon Length\"], scaled_tfmx_mae_all, label=\"Scaled, timesfm + xreg\")\n",
        "    # Add labels, legend, and grid\n",
        "    plt.xlabel(\"Horizon Length\")\n",
        "    plt.ylabel(\"Mean Absolute Error (MAE)\")\n",
        "    plt.title(\"MAE Comparison for Station ID: 93831.0\")\n",
        "    plt.legend()\n",
        "    plt.grid(True)\n",
        "    plt.show()"
      ]
    },
    {
      "cell_type": "code",
      "execution_count": null,
      "metadata": {
        "id": "QdAf0uIVEeQD"
      },
      "outputs": [],
      "source": [
        "result_scaled_tfmx_df['Source'] = \"Scaled timesfm-xreg\"\n",
        "result_base_scaled_xtfm_df['Source'] = \"Scaled xreg-timesfm\"\n",
        "result_xtfm_df['Source'] = \"xreg-timesfm\"\n",
        "result_tfmx_df['Source'] = \"timesfm-xreg\"\n",
        "# In case of topographic data use:\n",
        "# result_scaled_tfmx_df['Source'] = \"Scaled timesfm-xreg + topology\"\n",
        "# result_base_scaled_xtfm_df['Source'] = \"Scaled xreg-timesfm + topology\"\n",
        "# result_xtfm_df['Source'] = \"xreg-timesfm + topology\"\n",
        "# result_tfmx_df['Source'] = \"timesfm-xreg + topology\"\n",
        "# Combine all DataFrames into one\n",
        "combined_df = pd.concat(\n",
        "    [result_scaled_tfmx_df, result_base_scaled_xtfm_df, result_xtfm_df, result_tfmx_df],\n",
        "    ignore_index=True\n",
        ")\n",
        "# Save to CSV\n",
        "combined_df.to_csv(\"three_hourly_metrics.csv\", index=False)\n",
        "print(\"Combined metrics saved to hour_metrics.csv\")\n"
      ]
    }
  ],
  "metadata": {
    "colab": {
      "provenance": []
    },
    "kernelspec": {
      "display_name": "Python 3",
      "name": "python3"
    },
    "language_info": {
      "name": "python"
    },
    "widgets": {
      "application/vnd.jupyter.widget-state+json": {
        "04ca39e065344485b141101e8ee2f221": {
          "model_module": "@jupyter-widgets/controls",
          "model_module_version": "1.5.0",
          "model_name": "HBoxModel",
          "state": {
            "_dom_classes": [],
            "_model_module": "@jupyter-widgets/controls",
            "_model_module_version": "1.5.0",
            "_model_name": "HBoxModel",
            "_view_count": null,
            "_view_module": "@jupyter-widgets/controls",
            "_view_module_version": "1.5.0",
            "_view_name": "HBoxView",
            "box_style": "",
            "children": [
              "IPY_MODEL_12e2213aedb84694b522969b769a2e79",
              "IPY_MODEL_0c72376515ca40aea760303825ff1d73",
              "IPY_MODEL_a3a099e49f624f3db3446c61a4781a6f"
            ],
            "layout": "IPY_MODEL_ea8368e3e7d044ef86ce6deb2b0e2735"
          }
        },
        "04e39009e979432cbf3ec6f651b481b7": {
          "model_module": "@jupyter-widgets/base",
          "model_module_version": "1.2.0",
          "model_name": "LayoutModel",
          "state": {
            "_model_module": "@jupyter-widgets/base",
            "_model_module_version": "1.2.0",
            "_model_name": "LayoutModel",
            "_view_count": null,
            "_view_module": "@jupyter-widgets/base",
            "_view_module_version": "1.2.0",
            "_view_name": "LayoutView",
            "align_content": null,
            "align_items": null,
            "align_self": null,
            "border": null,
            "bottom": null,
            "display": null,
            "flex": null,
            "flex_flow": null,
            "grid_area": null,
            "grid_auto_columns": null,
            "grid_auto_flow": null,
            "grid_auto_rows": null,
            "grid_column": null,
            "grid_gap": null,
            "grid_row": null,
            "grid_template_areas": null,
            "grid_template_columns": null,
            "grid_template_rows": null,
            "height": null,
            "justify_content": null,
            "justify_items": null,
            "left": null,
            "margin": null,
            "max_height": null,
            "max_width": null,
            "min_height": null,
            "min_width": null,
            "object_fit": null,
            "object_position": null,
            "order": null,
            "overflow": null,
            "overflow_x": null,
            "overflow_y": null,
            "padding": null,
            "right": null,
            "top": null,
            "visibility": null,
            "width": null
          }
        },
        "0c72376515ca40aea760303825ff1d73": {
          "model_module": "@jupyter-widgets/controls",
          "model_module_version": "1.5.0",
          "model_name": "FloatProgressModel",
          "state": {
            "_dom_classes": [],
            "_model_module": "@jupyter-widgets/controls",
            "_model_module_version": "1.5.0",
            "_model_name": "FloatProgressModel",
            "_view_count": null,
            "_view_module": "@jupyter-widgets/controls",
            "_view_module_version": "1.5.0",
            "_view_name": "ProgressView",
            "bar_style": "success",
            "description": "",
            "description_tooltip": null,
            "layout": "IPY_MODEL_d14ab1d4a04545b2a3246013349f50c4",
            "max": 814370168,
            "min": 0,
            "orientation": "horizontal",
            "style": "IPY_MODEL_cb8e6235f9694a1b8aaf20dbe4357231",
            "value": 814370168
          }
        },
        "0c8a4c2a3be24415b618393509e28923": {
          "model_module": "@jupyter-widgets/controls",
          "model_module_version": "1.5.0",
          "model_name": "DescriptionStyleModel",
          "state": {
            "_model_module": "@jupyter-widgets/controls",
            "_model_module_version": "1.5.0",
            "_model_name": "DescriptionStyleModel",
            "_view_count": null,
            "_view_module": "@jupyter-widgets/base",
            "_view_module_version": "1.2.0",
            "_view_name": "StyleView",
            "description_width": ""
          }
        },
        "12e2213aedb84694b522969b769a2e79": {
          "model_module": "@jupyter-widgets/controls",
          "model_module_version": "1.5.0",
          "model_name": "HTMLModel",
          "state": {
            "_dom_classes": [],
            "_model_module": "@jupyter-widgets/controls",
            "_model_module_version": "1.5.0",
            "_model_name": "HTMLModel",
            "_view_count": null,
            "_view_module": "@jupyter-widgets/controls",
            "_view_module_version": "1.5.0",
            "_view_name": "HTMLView",
            "description": "",
            "description_tooltip": null,
            "layout": "IPY_MODEL_df703cfb2fae4aec9e6b2ab8178ac946",
            "placeholder": "​",
            "style": "IPY_MODEL_5634f4b83833426898c1641f9a063c73",
            "value": "torch_model.ckpt: 100%"
          }
        },
        "23f83ed4ad39479bae7fb6a2a2759d9a": {
          "model_module": "@jupyter-widgets/controls",
          "model_module_version": "1.5.0",
          "model_name": "DescriptionStyleModel",
          "state": {
            "_model_module": "@jupyter-widgets/controls",
            "_model_module_version": "1.5.0",
            "_model_name": "DescriptionStyleModel",
            "_view_count": null,
            "_view_module": "@jupyter-widgets/base",
            "_view_module_version": "1.2.0",
            "_view_name": "StyleView",
            "description_width": ""
          }
        },
        "24ff77723ebe4e429f0186723078d146": {
          "model_module": "@jupyter-widgets/base",
          "model_module_version": "1.2.0",
          "model_name": "LayoutModel",
          "state": {
            "_model_module": "@jupyter-widgets/base",
            "_model_module_version": "1.2.0",
            "_model_name": "LayoutModel",
            "_view_count": null,
            "_view_module": "@jupyter-widgets/base",
            "_view_module_version": "1.2.0",
            "_view_name": "LayoutView",
            "align_content": null,
            "align_items": null,
            "align_self": null,
            "border": null,
            "bottom": null,
            "display": null,
            "flex": null,
            "flex_flow": null,
            "grid_area": null,
            "grid_auto_columns": null,
            "grid_auto_flow": null,
            "grid_auto_rows": null,
            "grid_column": null,
            "grid_gap": null,
            "grid_row": null,
            "grid_template_areas": null,
            "grid_template_columns": null,
            "grid_template_rows": null,
            "height": null,
            "justify_content": null,
            "justify_items": null,
            "left": null,
            "margin": null,
            "max_height": null,
            "max_width": null,
            "min_height": null,
            "min_width": null,
            "object_fit": null,
            "object_position": null,
            "order": null,
            "overflow": null,
            "overflow_x": null,
            "overflow_y": null,
            "padding": null,
            "right": null,
            "top": null,
            "visibility": null,
            "width": null
          }
        },
        "3bf5a2c0fc57451a89caafdca35b5e2d": {
          "model_module": "@jupyter-widgets/base",
          "model_module_version": "1.2.0",
          "model_name": "LayoutModel",
          "state": {
            "_model_module": "@jupyter-widgets/base",
            "_model_module_version": "1.2.0",
            "_model_name": "LayoutModel",
            "_view_count": null,
            "_view_module": "@jupyter-widgets/base",
            "_view_module_version": "1.2.0",
            "_view_name": "LayoutView",
            "align_content": null,
            "align_items": null,
            "align_self": null,
            "border": null,
            "bottom": null,
            "display": null,
            "flex": null,
            "flex_flow": null,
            "grid_area": null,
            "grid_auto_columns": null,
            "grid_auto_flow": null,
            "grid_auto_rows": null,
            "grid_column": null,
            "grid_gap": null,
            "grid_row": null,
            "grid_template_areas": null,
            "grid_template_columns": null,
            "grid_template_rows": null,
            "height": null,
            "justify_content": null,
            "justify_items": null,
            "left": null,
            "margin": null,
            "max_height": null,
            "max_width": null,
            "min_height": null,
            "min_width": null,
            "object_fit": null,
            "object_position": null,
            "order": null,
            "overflow": null,
            "overflow_x": null,
            "overflow_y": null,
            "padding": null,
            "right": null,
            "top": null,
            "visibility": null,
            "width": null
          }
        },
        "3fe80b19b634426392f47668feb55221": {
          "model_module": "@jupyter-widgets/controls",
          "model_module_version": "1.5.0",
          "model_name": "DescriptionStyleModel",
          "state": {
            "_model_module": "@jupyter-widgets/controls",
            "_model_module_version": "1.5.0",
            "_model_name": "DescriptionStyleModel",
            "_view_count": null,
            "_view_module": "@jupyter-widgets/base",
            "_view_module_version": "1.2.0",
            "_view_name": "StyleView",
            "description_width": ""
          }
        },
        "4b6e9d69c3a449f38928d135999ae0a3": {
          "model_module": "@jupyter-widgets/controls",
          "model_module_version": "1.5.0",
          "model_name": "HTMLModel",
          "state": {
            "_dom_classes": [],
            "_model_module": "@jupyter-widgets/controls",
            "_model_module_version": "1.5.0",
            "_model_name": "HTMLModel",
            "_view_count": null,
            "_view_module": "@jupyter-widgets/controls",
            "_view_module_version": "1.5.0",
            "_view_name": "HTMLView",
            "description": "",
            "description_tooltip": null,
            "layout": "IPY_MODEL_ef4aaa26a53f41b193692eced4593408",
            "placeholder": "​",
            "style": "IPY_MODEL_e1749e98949e4e1c865ea07dc435b615",
            "value": " 1.52k/1.52k [00:00&lt;00:00, 10.1kB/s]"
          }
        },
        "50f63bf97e0f4e0ebbedabe9e3c3a0c1": {
          "model_module": "@jupyter-widgets/base",
          "model_module_version": "1.2.0",
          "model_name": "LayoutModel",
          "state": {
            "_model_module": "@jupyter-widgets/base",
            "_model_module_version": "1.2.0",
            "_model_name": "LayoutModel",
            "_view_count": null,
            "_view_module": "@jupyter-widgets/base",
            "_view_module_version": "1.2.0",
            "_view_name": "LayoutView",
            "align_content": null,
            "align_items": null,
            "align_self": null,
            "border": null,
            "bottom": null,
            "display": null,
            "flex": null,
            "flex_flow": null,
            "grid_area": null,
            "grid_auto_columns": null,
            "grid_auto_flow": null,
            "grid_auto_rows": null,
            "grid_column": null,
            "grid_gap": null,
            "grid_row": null,
            "grid_template_areas": null,
            "grid_template_columns": null,
            "grid_template_rows": null,
            "height": null,
            "justify_content": null,
            "justify_items": null,
            "left": null,
            "margin": null,
            "max_height": null,
            "max_width": null,
            "min_height": null,
            "min_width": null,
            "object_fit": null,
            "object_position": null,
            "order": null,
            "overflow": null,
            "overflow_x": null,
            "overflow_y": null,
            "padding": null,
            "right": null,
            "top": null,
            "visibility": null,
            "width": null
          }
        },
        "513585788eac4ddf9d2e55e1dccb87a8": {
          "model_module": "@jupyter-widgets/controls",
          "model_module_version": "1.5.0",
          "model_name": "ProgressStyleModel",
          "state": {
            "_model_module": "@jupyter-widgets/controls",
            "_model_module_version": "1.5.0",
            "_model_name": "ProgressStyleModel",
            "_view_count": null,
            "_view_module": "@jupyter-widgets/base",
            "_view_module_version": "1.2.0",
            "_view_name": "StyleView",
            "bar_color": null,
            "description_width": ""
          }
        },
        "5634f4b83833426898c1641f9a063c73": {
          "model_module": "@jupyter-widgets/controls",
          "model_module_version": "1.5.0",
          "model_name": "DescriptionStyleModel",
          "state": {
            "_model_module": "@jupyter-widgets/controls",
            "_model_module_version": "1.5.0",
            "_model_name": "DescriptionStyleModel",
            "_view_count": null,
            "_view_module": "@jupyter-widgets/base",
            "_view_module_version": "1.2.0",
            "_view_name": "StyleView",
            "description_width": ""
          }
        },
        "57cacdb17bf644e895f2027c4b360189": {
          "model_module": "@jupyter-widgets/base",
          "model_module_version": "1.2.0",
          "model_name": "LayoutModel",
          "state": {
            "_model_module": "@jupyter-widgets/base",
            "_model_module_version": "1.2.0",
            "_model_name": "LayoutModel",
            "_view_count": null,
            "_view_module": "@jupyter-widgets/base",
            "_view_module_version": "1.2.0",
            "_view_name": "LayoutView",
            "align_content": null,
            "align_items": null,
            "align_self": null,
            "border": null,
            "bottom": null,
            "display": null,
            "flex": null,
            "flex_flow": null,
            "grid_area": null,
            "grid_auto_columns": null,
            "grid_auto_flow": null,
            "grid_auto_rows": null,
            "grid_column": null,
            "grid_gap": null,
            "grid_row": null,
            "grid_template_areas": null,
            "grid_template_columns": null,
            "grid_template_rows": null,
            "height": null,
            "justify_content": null,
            "justify_items": null,
            "left": null,
            "margin": null,
            "max_height": null,
            "max_width": null,
            "min_height": null,
            "min_width": null,
            "object_fit": null,
            "object_position": null,
            "order": null,
            "overflow": null,
            "overflow_x": null,
            "overflow_y": null,
            "padding": null,
            "right": null,
            "top": null,
            "visibility": null,
            "width": null
          }
        },
        "5bc96a776b0441cb81cb5583cfa45743": {
          "model_module": "@jupyter-widgets/controls",
          "model_module_version": "1.5.0",
          "model_name": "HBoxModel",
          "state": {
            "_dom_classes": [],
            "_model_module": "@jupyter-widgets/controls",
            "_model_module_version": "1.5.0",
            "_model_name": "HBoxModel",
            "_view_count": null,
            "_view_module": "@jupyter-widgets/controls",
            "_view_module_version": "1.5.0",
            "_view_name": "HBoxView",
            "box_style": "",
            "children": [
              "IPY_MODEL_ed2440e4324e4c24a936bbcdb22e019e",
              "IPY_MODEL_6f2800b11a14432aaed778e08f2977b4",
              "IPY_MODEL_eca500607d3c494f80e517b05a6b2df5"
            ],
            "layout": "IPY_MODEL_57cacdb17bf644e895f2027c4b360189"
          }
        },
        "5ed460f4948249cdaacec905d13102ca": {
          "model_module": "@jupyter-widgets/controls",
          "model_module_version": "1.5.0",
          "model_name": "HBoxModel",
          "state": {
            "_dom_classes": [],
            "_model_module": "@jupyter-widgets/controls",
            "_model_module_version": "1.5.0",
            "_model_name": "HBoxModel",
            "_view_count": null,
            "_view_module": "@jupyter-widgets/controls",
            "_view_module_version": "1.5.0",
            "_view_name": "HBoxView",
            "box_style": "",
            "children": [
              "IPY_MODEL_d3e61e5677b3473883e412e44897c9f5",
              "IPY_MODEL_a9e667797295479180281f8375b81330",
              "IPY_MODEL_4b6e9d69c3a449f38928d135999ae0a3"
            ],
            "layout": "IPY_MODEL_905d208c60904e23ba2f15bcfbafb3ae"
          }
        },
        "6bdaeba4e6a440bdb2ccd166d0b6212f": {
          "model_module": "@jupyter-widgets/base",
          "model_module_version": "1.2.0",
          "model_name": "LayoutModel",
          "state": {
            "_model_module": "@jupyter-widgets/base",
            "_model_module_version": "1.2.0",
            "_model_name": "LayoutModel",
            "_view_count": null,
            "_view_module": "@jupyter-widgets/base",
            "_view_module_version": "1.2.0",
            "_view_name": "LayoutView",
            "align_content": null,
            "align_items": null,
            "align_self": null,
            "border": null,
            "bottom": null,
            "display": null,
            "flex": null,
            "flex_flow": null,
            "grid_area": null,
            "grid_auto_columns": null,
            "grid_auto_flow": null,
            "grid_auto_rows": null,
            "grid_column": null,
            "grid_gap": null,
            "grid_row": null,
            "grid_template_areas": null,
            "grid_template_columns": null,
            "grid_template_rows": null,
            "height": null,
            "justify_content": null,
            "justify_items": null,
            "left": null,
            "margin": null,
            "max_height": null,
            "max_width": null,
            "min_height": null,
            "min_width": null,
            "object_fit": null,
            "object_position": null,
            "order": null,
            "overflow": null,
            "overflow_x": null,
            "overflow_y": null,
            "padding": null,
            "right": null,
            "top": null,
            "visibility": null,
            "width": null
          }
        },
        "6bf110b0933c4f5092fdcd9b630626c8": {
          "model_module": "@jupyter-widgets/base",
          "model_module_version": "1.2.0",
          "model_name": "LayoutModel",
          "state": {
            "_model_module": "@jupyter-widgets/base",
            "_model_module_version": "1.2.0",
            "_model_name": "LayoutModel",
            "_view_count": null,
            "_view_module": "@jupyter-widgets/base",
            "_view_module_version": "1.2.0",
            "_view_name": "LayoutView",
            "align_content": null,
            "align_items": null,
            "align_self": null,
            "border": null,
            "bottom": null,
            "display": null,
            "flex": null,
            "flex_flow": null,
            "grid_area": null,
            "grid_auto_columns": null,
            "grid_auto_flow": null,
            "grid_auto_rows": null,
            "grid_column": null,
            "grid_gap": null,
            "grid_row": null,
            "grid_template_areas": null,
            "grid_template_columns": null,
            "grid_template_rows": null,
            "height": null,
            "justify_content": null,
            "justify_items": null,
            "left": null,
            "margin": null,
            "max_height": null,
            "max_width": null,
            "min_height": null,
            "min_width": null,
            "object_fit": null,
            "object_position": null,
            "order": null,
            "overflow": null,
            "overflow_x": null,
            "overflow_y": null,
            "padding": null,
            "right": null,
            "top": null,
            "visibility": null,
            "width": null
          }
        },
        "6f2800b11a14432aaed778e08f2977b4": {
          "model_module": "@jupyter-widgets/controls",
          "model_module_version": "1.5.0",
          "model_name": "FloatProgressModel",
          "state": {
            "_dom_classes": [],
            "_model_module": "@jupyter-widgets/controls",
            "_model_module_version": "1.5.0",
            "_model_name": "FloatProgressModel",
            "_view_count": null,
            "_view_module": "@jupyter-widgets/controls",
            "_view_module_version": "1.5.0",
            "_view_name": "ProgressView",
            "bar_style": "success",
            "description": "",
            "description_tooltip": null,
            "layout": "IPY_MODEL_6bf110b0933c4f5092fdcd9b630626c8",
            "max": 5575,
            "min": 0,
            "orientation": "horizontal",
            "style": "IPY_MODEL_8bfa74b6f66e455b8bd4a8ca18d4a8a5",
            "value": 5575
          }
        },
        "84e34b4a8a804bf5ab0654aceff45562": {
          "model_module": "@jupyter-widgets/controls",
          "model_module_version": "1.5.0",
          "model_name": "HBoxModel",
          "state": {
            "_dom_classes": [],
            "_model_module": "@jupyter-widgets/controls",
            "_model_module_version": "1.5.0",
            "_model_name": "HBoxModel",
            "_view_count": null,
            "_view_module": "@jupyter-widgets/controls",
            "_view_module_version": "1.5.0",
            "_view_name": "HBoxView",
            "box_style": "",
            "children": [
              "IPY_MODEL_b2feb92b9c764d41871b9941d83be0dc",
              "IPY_MODEL_b78277c5c15b472d99b2cfee0b5ee961",
              "IPY_MODEL_9a2f2c9bcad245b1892aee033ec1ac65"
            ],
            "layout": "IPY_MODEL_b6a2d2d5183145db9d70355902e7e430"
          }
        },
        "8bfa74b6f66e455b8bd4a8ca18d4a8a5": {
          "model_module": "@jupyter-widgets/controls",
          "model_module_version": "1.5.0",
          "model_name": "ProgressStyleModel",
          "state": {
            "_model_module": "@jupyter-widgets/controls",
            "_model_module_version": "1.5.0",
            "_model_name": "ProgressStyleModel",
            "_view_count": null,
            "_view_module": "@jupyter-widgets/base",
            "_view_module_version": "1.2.0",
            "_view_name": "StyleView",
            "bar_color": null,
            "description_width": ""
          }
        },
        "905d208c60904e23ba2f15bcfbafb3ae": {
          "model_module": "@jupyter-widgets/base",
          "model_module_version": "1.2.0",
          "model_name": "LayoutModel",
          "state": {
            "_model_module": "@jupyter-widgets/base",
            "_model_module_version": "1.2.0",
            "_model_name": "LayoutModel",
            "_view_count": null,
            "_view_module": "@jupyter-widgets/base",
            "_view_module_version": "1.2.0",
            "_view_name": "LayoutView",
            "align_content": null,
            "align_items": null,
            "align_self": null,
            "border": null,
            "bottom": null,
            "display": null,
            "flex": null,
            "flex_flow": null,
            "grid_area": null,
            "grid_auto_columns": null,
            "grid_auto_flow": null,
            "grid_auto_rows": null,
            "grid_column": null,
            "grid_gap": null,
            "grid_row": null,
            "grid_template_areas": null,
            "grid_template_columns": null,
            "grid_template_rows": null,
            "height": null,
            "justify_content": null,
            "justify_items": null,
            "left": null,
            "margin": null,
            "max_height": null,
            "max_width": null,
            "min_height": null,
            "min_width": null,
            "object_fit": null,
            "object_position": null,
            "order": null,
            "overflow": null,
            "overflow_x": null,
            "overflow_y": null,
            "padding": null,
            "right": null,
            "top": null,
            "visibility": null,
            "width": null
          }
        },
        "9a2f2c9bcad245b1892aee033ec1ac65": {
          "model_module": "@jupyter-widgets/controls",
          "model_module_version": "1.5.0",
          "model_name": "HTMLModel",
          "state": {
            "_dom_classes": [],
            "_model_module": "@jupyter-widgets/controls",
            "_model_module_version": "1.5.0",
            "_model_name": "HTMLModel",
            "_view_count": null,
            "_view_module": "@jupyter-widgets/controls",
            "_view_module_version": "1.5.0",
            "_view_name": "HTMLView",
            "description": "",
            "description_tooltip": null,
            "layout": "IPY_MODEL_04e39009e979432cbf3ec6f651b481b7",
            "placeholder": "​",
            "style": "IPY_MODEL_ffbb4a208ca14f189fe3b171febc8e92",
            "value": " 3/3 [00:19&lt;00:00,  7.23s/it]"
          }
        },
        "9ebc23c3665d4a458c6441a1c7374a54": {
          "model_module": "@jupyter-widgets/base",
          "model_module_version": "1.2.0",
          "model_name": "LayoutModel",
          "state": {
            "_model_module": "@jupyter-widgets/base",
            "_model_module_version": "1.2.0",
            "_model_name": "LayoutModel",
            "_view_count": null,
            "_view_module": "@jupyter-widgets/base",
            "_view_module_version": "1.2.0",
            "_view_name": "LayoutView",
            "align_content": null,
            "align_items": null,
            "align_self": null,
            "border": null,
            "bottom": null,
            "display": null,
            "flex": null,
            "flex_flow": null,
            "grid_area": null,
            "grid_auto_columns": null,
            "grid_auto_flow": null,
            "grid_auto_rows": null,
            "grid_column": null,
            "grid_gap": null,
            "grid_row": null,
            "grid_template_areas": null,
            "grid_template_columns": null,
            "grid_template_rows": null,
            "height": null,
            "justify_content": null,
            "justify_items": null,
            "left": null,
            "margin": null,
            "max_height": null,
            "max_width": null,
            "min_height": null,
            "min_width": null,
            "object_fit": null,
            "object_position": null,
            "order": null,
            "overflow": null,
            "overflow_x": null,
            "overflow_y": null,
            "padding": null,
            "right": null,
            "top": null,
            "visibility": null,
            "width": null
          }
        },
        "a3a099e49f624f3db3446c61a4781a6f": {
          "model_module": "@jupyter-widgets/controls",
          "model_module_version": "1.5.0",
          "model_name": "HTMLModel",
          "state": {
            "_dom_classes": [],
            "_model_module": "@jupyter-widgets/controls",
            "_model_module_version": "1.5.0",
            "_model_name": "HTMLModel",
            "_view_count": null,
            "_view_module": "@jupyter-widgets/controls",
            "_view_module_version": "1.5.0",
            "_view_name": "HTMLView",
            "description": "",
            "description_tooltip": null,
            "layout": "IPY_MODEL_3bf5a2c0fc57451a89caafdca35b5e2d",
            "placeholder": "​",
            "style": "IPY_MODEL_0c8a4c2a3be24415b618393509e28923",
            "value": " 814M/814M [00:19&lt;00:00, 42.9MB/s]"
          }
        },
        "a9e667797295479180281f8375b81330": {
          "model_module": "@jupyter-widgets/controls",
          "model_module_version": "1.5.0",
          "model_name": "FloatProgressModel",
          "state": {
            "_dom_classes": [],
            "_model_module": "@jupyter-widgets/controls",
            "_model_module_version": "1.5.0",
            "_model_name": "FloatProgressModel",
            "_view_count": null,
            "_view_module": "@jupyter-widgets/controls",
            "_view_module_version": "1.5.0",
            "_view_name": "ProgressView",
            "bar_style": "success",
            "description": "",
            "description_tooltip": null,
            "layout": "IPY_MODEL_9ebc23c3665d4a458c6441a1c7374a54",
            "max": 1519,
            "min": 0,
            "orientation": "horizontal",
            "style": "IPY_MODEL_513585788eac4ddf9d2e55e1dccb87a8",
            "value": 1519
          }
        },
        "ac889cb6e6d742a49739cc73a0e7bd1c": {
          "model_module": "@jupyter-widgets/controls",
          "model_module_version": "1.5.0",
          "model_name": "DescriptionStyleModel",
          "state": {
            "_model_module": "@jupyter-widgets/controls",
            "_model_module_version": "1.5.0",
            "_model_name": "DescriptionStyleModel",
            "_view_count": null,
            "_view_module": "@jupyter-widgets/base",
            "_view_module_version": "1.2.0",
            "_view_name": "StyleView",
            "description_width": ""
          }
        },
        "b06536f70fb048f4b434a3692ccb5033": {
          "model_module": "@jupyter-widgets/controls",
          "model_module_version": "1.5.0",
          "model_name": "ProgressStyleModel",
          "state": {
            "_model_module": "@jupyter-widgets/controls",
            "_model_module_version": "1.5.0",
            "_model_name": "ProgressStyleModel",
            "_view_count": null,
            "_view_module": "@jupyter-widgets/base",
            "_view_module_version": "1.2.0",
            "_view_name": "StyleView",
            "bar_color": null,
            "description_width": ""
          }
        },
        "b2feb92b9c764d41871b9941d83be0dc": {
          "model_module": "@jupyter-widgets/controls",
          "model_module_version": "1.5.0",
          "model_name": "HTMLModel",
          "state": {
            "_dom_classes": [],
            "_model_module": "@jupyter-widgets/controls",
            "_model_module_version": "1.5.0",
            "_model_name": "HTMLModel",
            "_view_count": null,
            "_view_module": "@jupyter-widgets/controls",
            "_view_module_version": "1.5.0",
            "_view_name": "HTMLView",
            "description": "",
            "description_tooltip": null,
            "layout": "IPY_MODEL_50f63bf97e0f4e0ebbedabe9e3c3a0c1",
            "placeholder": "​",
            "style": "IPY_MODEL_ac889cb6e6d742a49739cc73a0e7bd1c",
            "value": "Fetching 3 files: 100%"
          }
        },
        "b6a2d2d5183145db9d70355902e7e430": {
          "model_module": "@jupyter-widgets/base",
          "model_module_version": "1.2.0",
          "model_name": "LayoutModel",
          "state": {
            "_model_module": "@jupyter-widgets/base",
            "_model_module_version": "1.2.0",
            "_model_name": "LayoutModel",
            "_view_count": null,
            "_view_module": "@jupyter-widgets/base",
            "_view_module_version": "1.2.0",
            "_view_name": "LayoutView",
            "align_content": null,
            "align_items": null,
            "align_self": null,
            "border": null,
            "bottom": null,
            "display": null,
            "flex": null,
            "flex_flow": null,
            "grid_area": null,
            "grid_auto_columns": null,
            "grid_auto_flow": null,
            "grid_auto_rows": null,
            "grid_column": null,
            "grid_gap": null,
            "grid_row": null,
            "grid_template_areas": null,
            "grid_template_columns": null,
            "grid_template_rows": null,
            "height": null,
            "justify_content": null,
            "justify_items": null,
            "left": null,
            "margin": null,
            "max_height": null,
            "max_width": null,
            "min_height": null,
            "min_width": null,
            "object_fit": null,
            "object_position": null,
            "order": null,
            "overflow": null,
            "overflow_x": null,
            "overflow_y": null,
            "padding": null,
            "right": null,
            "top": null,
            "visibility": null,
            "width": null
          }
        },
        "b78277c5c15b472d99b2cfee0b5ee961": {
          "model_module": "@jupyter-widgets/controls",
          "model_module_version": "1.5.0",
          "model_name": "FloatProgressModel",
          "state": {
            "_dom_classes": [],
            "_model_module": "@jupyter-widgets/controls",
            "_model_module_version": "1.5.0",
            "_model_name": "FloatProgressModel",
            "_view_count": null,
            "_view_module": "@jupyter-widgets/controls",
            "_view_module_version": "1.5.0",
            "_view_name": "ProgressView",
            "bar_style": "success",
            "description": "",
            "description_tooltip": null,
            "layout": "IPY_MODEL_f61bbee1369c4ae699461890ec318831",
            "max": 3,
            "min": 0,
            "orientation": "horizontal",
            "style": "IPY_MODEL_b06536f70fb048f4b434a3692ccb5033",
            "value": 3
          }
        },
        "b8b7e7897d2649eba50a04ba7842c4dd": {
          "model_module": "@jupyter-widgets/base",
          "model_module_version": "1.2.0",
          "model_name": "LayoutModel",
          "state": {
            "_model_module": "@jupyter-widgets/base",
            "_model_module_version": "1.2.0",
            "_model_name": "LayoutModel",
            "_view_count": null,
            "_view_module": "@jupyter-widgets/base",
            "_view_module_version": "1.2.0",
            "_view_name": "LayoutView",
            "align_content": null,
            "align_items": null,
            "align_self": null,
            "border": null,
            "bottom": null,
            "display": null,
            "flex": null,
            "flex_flow": null,
            "grid_area": null,
            "grid_auto_columns": null,
            "grid_auto_flow": null,
            "grid_auto_rows": null,
            "grid_column": null,
            "grid_gap": null,
            "grid_row": null,
            "grid_template_areas": null,
            "grid_template_columns": null,
            "grid_template_rows": null,
            "height": null,
            "justify_content": null,
            "justify_items": null,
            "left": null,
            "margin": null,
            "max_height": null,
            "max_width": null,
            "min_height": null,
            "min_width": null,
            "object_fit": null,
            "object_position": null,
            "order": null,
            "overflow": null,
            "overflow_x": null,
            "overflow_y": null,
            "padding": null,
            "right": null,
            "top": null,
            "visibility": null,
            "width": null
          }
        },
        "cb8e6235f9694a1b8aaf20dbe4357231": {
          "model_module": "@jupyter-widgets/controls",
          "model_module_version": "1.5.0",
          "model_name": "ProgressStyleModel",
          "state": {
            "_model_module": "@jupyter-widgets/controls",
            "_model_module_version": "1.5.0",
            "_model_name": "ProgressStyleModel",
            "_view_count": null,
            "_view_module": "@jupyter-widgets/base",
            "_view_module_version": "1.2.0",
            "_view_name": "StyleView",
            "bar_color": null,
            "description_width": ""
          }
        },
        "d14ab1d4a04545b2a3246013349f50c4": {
          "model_module": "@jupyter-widgets/base",
          "model_module_version": "1.2.0",
          "model_name": "LayoutModel",
          "state": {
            "_model_module": "@jupyter-widgets/base",
            "_model_module_version": "1.2.0",
            "_model_name": "LayoutModel",
            "_view_count": null,
            "_view_module": "@jupyter-widgets/base",
            "_view_module_version": "1.2.0",
            "_view_name": "LayoutView",
            "align_content": null,
            "align_items": null,
            "align_self": null,
            "border": null,
            "bottom": null,
            "display": null,
            "flex": null,
            "flex_flow": null,
            "grid_area": null,
            "grid_auto_columns": null,
            "grid_auto_flow": null,
            "grid_auto_rows": null,
            "grid_column": null,
            "grid_gap": null,
            "grid_row": null,
            "grid_template_areas": null,
            "grid_template_columns": null,
            "grid_template_rows": null,
            "height": null,
            "justify_content": null,
            "justify_items": null,
            "left": null,
            "margin": null,
            "max_height": null,
            "max_width": null,
            "min_height": null,
            "min_width": null,
            "object_fit": null,
            "object_position": null,
            "order": null,
            "overflow": null,
            "overflow_x": null,
            "overflow_y": null,
            "padding": null,
            "right": null,
            "top": null,
            "visibility": null,
            "width": null
          }
        },
        "d3e61e5677b3473883e412e44897c9f5": {
          "model_module": "@jupyter-widgets/controls",
          "model_module_version": "1.5.0",
          "model_name": "HTMLModel",
          "state": {
            "_dom_classes": [],
            "_model_module": "@jupyter-widgets/controls",
            "_model_module_version": "1.5.0",
            "_model_name": "HTMLModel",
            "_view_count": null,
            "_view_module": "@jupyter-widgets/controls",
            "_view_module_version": "1.5.0",
            "_view_name": "HTMLView",
            "description": "",
            "description_tooltip": null,
            "layout": "IPY_MODEL_6bdaeba4e6a440bdb2ccd166d0b6212f",
            "placeholder": "​",
            "style": "IPY_MODEL_3fe80b19b634426392f47668feb55221",
            "value": ".gitattributes: 100%"
          }
        },
        "df703cfb2fae4aec9e6b2ab8178ac946": {
          "model_module": "@jupyter-widgets/base",
          "model_module_version": "1.2.0",
          "model_name": "LayoutModel",
          "state": {
            "_model_module": "@jupyter-widgets/base",
            "_model_module_version": "1.2.0",
            "_model_name": "LayoutModel",
            "_view_count": null,
            "_view_module": "@jupyter-widgets/base",
            "_view_module_version": "1.2.0",
            "_view_name": "LayoutView",
            "align_content": null,
            "align_items": null,
            "align_self": null,
            "border": null,
            "bottom": null,
            "display": null,
            "flex": null,
            "flex_flow": null,
            "grid_area": null,
            "grid_auto_columns": null,
            "grid_auto_flow": null,
            "grid_auto_rows": null,
            "grid_column": null,
            "grid_gap": null,
            "grid_row": null,
            "grid_template_areas": null,
            "grid_template_columns": null,
            "grid_template_rows": null,
            "height": null,
            "justify_content": null,
            "justify_items": null,
            "left": null,
            "margin": null,
            "max_height": null,
            "max_width": null,
            "min_height": null,
            "min_width": null,
            "object_fit": null,
            "object_position": null,
            "order": null,
            "overflow": null,
            "overflow_x": null,
            "overflow_y": null,
            "padding": null,
            "right": null,
            "top": null,
            "visibility": null,
            "width": null
          }
        },
        "e1749e98949e4e1c865ea07dc435b615": {
          "model_module": "@jupyter-widgets/controls",
          "model_module_version": "1.5.0",
          "model_name": "DescriptionStyleModel",
          "state": {
            "_model_module": "@jupyter-widgets/controls",
            "_model_module_version": "1.5.0",
            "_model_name": "DescriptionStyleModel",
            "_view_count": null,
            "_view_module": "@jupyter-widgets/base",
            "_view_module_version": "1.2.0",
            "_view_name": "StyleView",
            "description_width": ""
          }
        },
        "ea8368e3e7d044ef86ce6deb2b0e2735": {
          "model_module": "@jupyter-widgets/base",
          "model_module_version": "1.2.0",
          "model_name": "LayoutModel",
          "state": {
            "_model_module": "@jupyter-widgets/base",
            "_model_module_version": "1.2.0",
            "_model_name": "LayoutModel",
            "_view_count": null,
            "_view_module": "@jupyter-widgets/base",
            "_view_module_version": "1.2.0",
            "_view_name": "LayoutView",
            "align_content": null,
            "align_items": null,
            "align_self": null,
            "border": null,
            "bottom": null,
            "display": null,
            "flex": null,
            "flex_flow": null,
            "grid_area": null,
            "grid_auto_columns": null,
            "grid_auto_flow": null,
            "grid_auto_rows": null,
            "grid_column": null,
            "grid_gap": null,
            "grid_row": null,
            "grid_template_areas": null,
            "grid_template_columns": null,
            "grid_template_rows": null,
            "height": null,
            "justify_content": null,
            "justify_items": null,
            "left": null,
            "margin": null,
            "max_height": null,
            "max_width": null,
            "min_height": null,
            "min_width": null,
            "object_fit": null,
            "object_position": null,
            "order": null,
            "overflow": null,
            "overflow_x": null,
            "overflow_y": null,
            "padding": null,
            "right": null,
            "top": null,
            "visibility": null,
            "width": null
          }
        },
        "eca500607d3c494f80e517b05a6b2df5": {
          "model_module": "@jupyter-widgets/controls",
          "model_module_version": "1.5.0",
          "model_name": "HTMLModel",
          "state": {
            "_dom_classes": [],
            "_model_module": "@jupyter-widgets/controls",
            "_model_module_version": "1.5.0",
            "_model_name": "HTMLModel",
            "_view_count": null,
            "_view_module": "@jupyter-widgets/controls",
            "_view_module_version": "1.5.0",
            "_view_name": "HTMLView",
            "description": "",
            "description_tooltip": null,
            "layout": "IPY_MODEL_b8b7e7897d2649eba50a04ba7842c4dd",
            "placeholder": "​",
            "style": "IPY_MODEL_eee37c87f2954cab95c06c6b5cfd99ea",
            "value": " 5.58k/5.58k [00:00&lt;00:00, 97.2kB/s]"
          }
        },
        "ed2440e4324e4c24a936bbcdb22e019e": {
          "model_module": "@jupyter-widgets/controls",
          "model_module_version": "1.5.0",
          "model_name": "HTMLModel",
          "state": {
            "_dom_classes": [],
            "_model_module": "@jupyter-widgets/controls",
            "_model_module_version": "1.5.0",
            "_model_name": "HTMLModel",
            "_view_count": null,
            "_view_module": "@jupyter-widgets/controls",
            "_view_module_version": "1.5.0",
            "_view_name": "HTMLView",
            "description": "",
            "description_tooltip": null,
            "layout": "IPY_MODEL_24ff77723ebe4e429f0186723078d146",
            "placeholder": "​",
            "style": "IPY_MODEL_23f83ed4ad39479bae7fb6a2a2759d9a",
            "value": "README.md: 100%"
          }
        },
        "eee37c87f2954cab95c06c6b5cfd99ea": {
          "model_module": "@jupyter-widgets/controls",
          "model_module_version": "1.5.0",
          "model_name": "DescriptionStyleModel",
          "state": {
            "_model_module": "@jupyter-widgets/controls",
            "_model_module_version": "1.5.0",
            "_model_name": "DescriptionStyleModel",
            "_view_count": null,
            "_view_module": "@jupyter-widgets/base",
            "_view_module_version": "1.2.0",
            "_view_name": "StyleView",
            "description_width": ""
          }
        },
        "ef4aaa26a53f41b193692eced4593408": {
          "model_module": "@jupyter-widgets/base",
          "model_module_version": "1.2.0",
          "model_name": "LayoutModel",
          "state": {
            "_model_module": "@jupyter-widgets/base",
            "_model_module_version": "1.2.0",
            "_model_name": "LayoutModel",
            "_view_count": null,
            "_view_module": "@jupyter-widgets/base",
            "_view_module_version": "1.2.0",
            "_view_name": "LayoutView",
            "align_content": null,
            "align_items": null,
            "align_self": null,
            "border": null,
            "bottom": null,
            "display": null,
            "flex": null,
            "flex_flow": null,
            "grid_area": null,
            "grid_auto_columns": null,
            "grid_auto_flow": null,
            "grid_auto_rows": null,
            "grid_column": null,
            "grid_gap": null,
            "grid_row": null,
            "grid_template_areas": null,
            "grid_template_columns": null,
            "grid_template_rows": null,
            "height": null,
            "justify_content": null,
            "justify_items": null,
            "left": null,
            "margin": null,
            "max_height": null,
            "max_width": null,
            "min_height": null,
            "min_width": null,
            "object_fit": null,
            "object_position": null,
            "order": null,
            "overflow": null,
            "overflow_x": null,
            "overflow_y": null,
            "padding": null,
            "right": null,
            "top": null,
            "visibility": null,
            "width": null
          }
        },
        "f61bbee1369c4ae699461890ec318831": {
          "model_module": "@jupyter-widgets/base",
          "model_module_version": "1.2.0",
          "model_name": "LayoutModel",
          "state": {
            "_model_module": "@jupyter-widgets/base",
            "_model_module_version": "1.2.0",
            "_model_name": "LayoutModel",
            "_view_count": null,
            "_view_module": "@jupyter-widgets/base",
            "_view_module_version": "1.2.0",
            "_view_name": "LayoutView",
            "align_content": null,
            "align_items": null,
            "align_self": null,
            "border": null,
            "bottom": null,
            "display": null,
            "flex": null,
            "flex_flow": null,
            "grid_area": null,
            "grid_auto_columns": null,
            "grid_auto_flow": null,
            "grid_auto_rows": null,
            "grid_column": null,
            "grid_gap": null,
            "grid_row": null,
            "grid_template_areas": null,
            "grid_template_columns": null,
            "grid_template_rows": null,
            "height": null,
            "justify_content": null,
            "justify_items": null,
            "left": null,
            "margin": null,
            "max_height": null,
            "max_width": null,
            "min_height": null,
            "min_width": null,
            "object_fit": null,
            "object_position": null,
            "order": null,
            "overflow": null,
            "overflow_x": null,
            "overflow_y": null,
            "padding": null,
            "right": null,
            "top": null,
            "visibility": null,
            "width": null
          }
        },
        "ffbb4a208ca14f189fe3b171febc8e92": {
          "model_module": "@jupyter-widgets/controls",
          "model_module_version": "1.5.0",
          "model_name": "DescriptionStyleModel",
          "state": {
            "_model_module": "@jupyter-widgets/controls",
            "_model_module_version": "1.5.0",
            "_model_name": "DescriptionStyleModel",
            "_view_count": null,
            "_view_module": "@jupyter-widgets/base",
            "_view_module_version": "1.2.0",
            "_view_name": "StyleView",
            "description_width": ""
          }
        }
      }
    }
  },
  "nbformat": 4,
  "nbformat_minor": 0
}
