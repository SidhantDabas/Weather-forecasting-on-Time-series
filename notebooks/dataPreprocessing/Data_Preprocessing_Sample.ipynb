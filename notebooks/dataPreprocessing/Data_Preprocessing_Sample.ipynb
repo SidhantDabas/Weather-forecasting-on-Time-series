{
 "cells": [
  {
   "cell_type": "markdown",
   "metadata": {},
   "source": [
    "# Demo for Data preprocessing\n",
    "\n",
    "This notebook shows how the datasets were preprocessed(current notebook is for hourly data). It should be noted that the pre processing was done on each station for each frequency separately. After that point, the stations were combined into one dataframe for each of the three frequencies. "
   ]
  },
  {
   "cell_type": "code",
   "execution_count": null,
   "metadata": {},
   "outputs": [],
   "source": [
    "import os\n",
    "import glob\n",
    "import numpy as np\n",
    "import pandas as pd\n",
    "import xarray as xr\n",
    "import matplotlib.pyplot as plt\n",
    "import seaborn as sns\n",
    "sns.set_style('whitegrid')\n",
    "\n",
    "from darts import TimeSeries\n",
    "from darts.models import NLinearModel\n",
    "from darts.utils.missing_values import extract_subseries\n",
    "from darts.dataprocessing.transformers.scaler import Scaler\n",
    "from darts.metrics.metrics import mae, mse, mape\n",
    "from pytorch_lightning.callbacks.early_stopping import EarlyStopping\n",
    "\n",
    "import warnings\n",
    "warnings.filterwarnings('ignore')\n",
    "data_taiao = 'C:/Users/sidhant/Desktop/Dissertation/taiao_data'\n",
    "\n",
    "# ICAO id of Wellington Airport\n",
    "station_icao = 'NZAPA'\n",
    "\n",
    "# WMO id of Wellington Airport\n",
    "station_wmo = '93245'"
   ]
  },
  {
   "cell_type": "markdown",
   "metadata": {},
   "source": [
    "### Selecting Target"
   ]
  },
  {
   "cell_type": "code",
   "execution_count": 2,
   "metadata": {},
   "outputs": [],
   "source": [
    "# Modeling the 1h max temperature for a simple demo\n",
    "target = 'WindSpd_01HrAvg'"
   ]
  },
  {
   "cell_type": "markdown",
   "metadata": {},
   "source": [
    "Combining all the observed data and converting kelvin to celcius"
   ]
  },
  {
   "cell_type": "code",
   "execution_count": 3,
   "metadata": {},
   "outputs": [],
   "source": [
    "file_paths = glob.glob(f'{data_taiao}/1minobs/{station_icao}/**/*202*.csv', recursive=True)\n",
    "obs_csv = pd.concat([pd.read_csv(file, index_col='time', parse_dates=True)\n",
    "                     for file in file_paths]).sort_index()\n",
    "# Convert Celsius to Kelvin for all relevant temperature columns\n",
    "obs_csv['AirTemp_01HrMax'] = obs_csv['AirTemp_01HrMax'] + 273.15\n",
    "obs_csv['AirTemp_01HrMin'] = obs_csv['AirTemp_01HrMin'] + 273.15\n",
    "obs_csv['AirTemp_01MnAvg'] = obs_csv['AirTemp_01MnAvg'] + 273.15\n",
    "obs_csv['DewTemp_01MnAvg'] = obs_csv['DewTemp_01MnAvg'] + 273.15"
   ]
  },
  {
   "cell_type": "markdown",
   "metadata": {},
   "source": [
    "### Dropping duplicate timestamps in observed dataset."
   ]
  },
  {
   "cell_type": "code",
   "execution_count": 4,
   "metadata": {},
   "outputs": [],
   "source": [
    "obs_csv = obs_csv.reset_index().sort_values(['time']).drop_duplicates(subset='time', keep='last').set_index('time')"
   ]
  },
  {
   "cell_type": "markdown",
   "metadata": {},
   "source": [
    "# Combining the three NWP datasets for all stations"
   ]
  },
  {
   "cell_type": "markdown",
   "metadata": {},
   "source": [
    "Null Values are being dropped"
   ]
  },
  {
   "cell_type": "markdown",
   "metadata": {},
   "source": [
    "## WRF data"
   ]
  },
  {
   "cell_type": "code",
   "execution_count": 6,
   "metadata": {},
   "outputs": [],
   "source": [
    "file_paths = glob.glob(f'{data_taiao}/nwp/ARWECMWFcld_single_nz4km/{station_wmo}/*202*.nc')\n",
    "wrf_data = xr.open_mfdataset([file for file in file_paths],\n",
    "                             engine='netcdf4',\n",
    "                             concat_dim='run',\n",
    "                             combine='nested',).dropna(dim='run', how='all')"
   ]
  },
  {
   "cell_type": "markdown",
   "metadata": {},
   "source": [
    "## ECMWF Ensemble Data"
   ]
  },
  {
   "cell_type": "code",
   "execution_count": 7,
   "metadata": {},
   "outputs": [],
   "source": [
    "file_paths_ensemble = glob.glob(f'{data_taiao}/nwp/ECMWF_ensemble_global/{station_wmo}/*202*.nc')\n",
    "ecmwf_ensemble_data = xr.open_mfdataset([file for file in file_paths_ensemble],\n",
    "                             engine='netcdf4',\n",
    "                             concat_dim='run',\n",
    "                             combine='nested',).dropna(dim='run', how='all')\n"
   ]
  },
  {
   "cell_type": "markdown",
   "metadata": {},
   "source": [
    "## ECMWF single data"
   ]
  },
  {
   "cell_type": "code",
   "execution_count": 8,
   "metadata": {},
   "outputs": [],
   "source": [
    "file_paths_single = glob.glob(f'{data_taiao}/nwp/ECMWF_single_global/{station_wmo}/*202*.nc')\n",
    "ecmwf_single_data = xr.open_mfdataset([file for file in file_paths_single],\n",
    "                             engine='netcdf4',\n",
    "                             concat_dim='run',\n",
    "                             combine='nested',).dropna(dim='run', how='all')\n"
   ]
  },
  {
   "cell_type": "markdown",
   "metadata": {},
   "source": [
    "### Define the Covariates"
   ]
  },
  {
   "cell_type": "markdown",
   "metadata": {},
   "source": [
    "Using only the selected covariates from PDP, ALE and Random forest ranking"
   ]
  },
  {
   "cell_type": "markdown",
   "metadata": {},
   "source": [
    "Features selected in WRF"
   ]
  },
  {
   "cell_type": "code",
   "execution_count": 9,
   "metadata": {},
   "outputs": [],
   "source": [
    "future_covariates_wrf = ['wspk10m', 'uuu30m', 'vvv10m', 'lapprs900hPa', 'uuu10m', 'wspk115m',  'vvv850hPa', 'wspk850hPa', 'mgust', 'vvv30m', 'swdown', 'uuu500m']"
   ]
  },
  {
   "cell_type": "markdown",
   "metadata": {},
   "source": [
    "Features selected in ECMWF Ensemble"
   ]
  },
  {
   "cell_type": "code",
   "execution_count": 10,
   "metadata": {},
   "outputs": [],
   "source": [
    "future_covariates_ecmwf_ensemble = ['v100m','tdwpt', 'f10m', 'g10m', 'gust10_inst', 'f100m','tmax', 'u100m', 'u10m', 'v10m']"
   ]
  },
  {
   "cell_type": "markdown",
   "metadata": {},
   "source": [
    "Features selected in ECMWF SIngle"
   ]
  },
  {
   "cell_type": "code",
   "execution_count": 11,
   "metadata": {},
   "outputs": [],
   "source": [
    "future_covariates_ecmwf_single = ['u100m', 'f100m', 'rh', 'ws850p', 'g10m', 'u10m', 'u925p', 'u850p', 'f10m', 'v925p']\n"
   ]
  },
  {
   "cell_type": "markdown",
   "metadata": {},
   "source": [
    "Features Selected in 1 min obs"
   ]
  },
  {
   "cell_type": "code",
   "execution_count": 12,
   "metadata": {},
   "outputs": [],
   "source": [
    "past_covariates = [\n",
    "    'WindRun_01HrAcc', 'Data_Time_Day__', 'Data_Time_Hour_', \n",
    "    'Data_Time_Month', 'Data_Time_Year_', 'Stn_Numeric_ID_'\n",
    "]"
   ]
  },
  {
   "cell_type": "markdown",
   "metadata": {},
   "source": [
    "### Select only the past covariates in the Observed data(csv one)"
   ]
  },
  {
   "cell_type": "code",
   "execution_count": 13,
   "metadata": {},
   "outputs": [
    {
     "data": {
      "text/plain": [
       "(2062780, 7)"
      ]
     },
     "execution_count": 13,
     "metadata": {},
     "output_type": "execute_result"
    }
   ],
   "source": [
    "obs_selected = obs_csv[[target] + past_covariates].reset_index().sort_values(['time']).drop_duplicates(subset='time', keep='last').set_index('time')\n",
    "obs_selected.shape"
   ]
  },
  {
   "cell_type": "markdown",
   "metadata": {},
   "source": [
    "## Merge obs and NWP data - hourly"
   ]
  },
  {
   "cell_type": "markdown",
   "metadata": {},
   "source": [
    "### Convert nwp dataset to data frame"
   ]
  },
  {
   "cell_type": "markdown",
   "metadata": {},
   "source": [
    "#### Convert WRF dataset to data frame"
   ]
  },
  {
   "cell_type": "code",
   "execution_count": 15,
   "metadata": {},
   "outputs": [
    {
     "data": {
      "text/plain": [
       "(39889, 96)"
      ]
     },
     "execution_count": 15,
     "metadata": {},
     "output_type": "execute_result"
    }
   ],
   "source": [
    "# Add the valid_time of the NWP forecast, to join with the observation time\n",
    "wrf_df = (wrf_data.to_dataframe().reset_index()\n",
    "          .assign(valid_time = lambda x : x.run + x.prognosis_period).set_index('valid_time'))\n",
    "wrf_df = wrf_df.reset_index().sort_values(['valid_time']).drop_duplicates(subset='valid_time', keep='last').set_index('valid_time')\n",
    "wrf_df.shape"
   ]
  },
  {
   "cell_type": "markdown",
   "metadata": {},
   "source": [
    "#### Convert ecmwf_ensemble dataset to data frame"
   ]
  },
  {
   "cell_type": "code",
   "execution_count": 16,
   "metadata": {},
   "outputs": [
    {
     "data": {
      "text/plain": [
       "(10538, 83)"
      ]
     },
     "execution_count": 16,
     "metadata": {},
     "output_type": "execute_result"
    }
   ],
   "source": [
    "# Add the valid_time of the NWP forecast, to join with the observation time\n",
    "ecmwf_ensemble_data_df = (ecmwf_ensemble_data.to_dataframe().reset_index()\n",
    "          .assign(valid_time = lambda x : x.run + x.prognosis_period).set_index('valid_time'))\n",
    "ecmwf_ensemble_data_df = ecmwf_ensemble_data_df.reset_index().sort_values(['valid_time']).drop_duplicates(subset='valid_time', keep='last').set_index('valid_time')\n",
    "ecmwf_ensemble_data_df.shape"
   ]
  },
  {
   "cell_type": "markdown",
   "metadata": {},
   "source": [
    "#### Convert ecmwf_single dataset to data frame"
   ]
  },
  {
   "cell_type": "code",
   "execution_count": 17,
   "metadata": {},
   "outputs": [
    {
     "data": {
      "text/plain": [
       "(13333, 82)"
      ]
     },
     "execution_count": 17,
     "metadata": {},
     "output_type": "execute_result"
    }
   ],
   "source": [
    "# Add the valid_time of the NWP forecast, to join with the observation time\n",
    "ecmwf_single_data_df = (ecmwf_single_data.to_dataframe().reset_index()\n",
    "          .assign(valid_time = lambda x : x.run + x.prognosis_period).set_index('valid_time'))\n",
    "ecmwf_single_data_df = ecmwf_single_data_df.reset_index().sort_values(['valid_time']).drop_duplicates(subset='valid_time', keep='last').set_index('valid_time')\n",
    "ecmwf_single_data_df.shape"
   ]
  },
  {
   "cell_type": "markdown",
   "metadata": {},
   "source": [
    "Select Covariates to improve efficiency and handle memory error caused due to large datasets."
   ]
  },
  {
   "cell_type": "code",
   "execution_count": 18,
   "metadata": {},
   "outputs": [],
   "source": [
    "ecmwf_ensemble_data_df = ecmwf_ensemble_data_df[future_covariates_ecmwf_ensemble]\n",
    "ecmwf_ensemble_data_df = ecmwf_ensemble_data_df.add_suffix('_EE') # ECMWF have common column names\n",
    "wrf_df = wrf_df[future_covariates_wrf]\n",
    "ecmwf_single_data_df = ecmwf_single_data_df[future_covariates_ecmwf_single]\n",
    "ecmwf_single_data_df = ecmwf_single_data_df.add_suffix('_ES') # ECMWF have common column names"
   ]
  },
  {
   "cell_type": "markdown",
   "metadata": {},
   "source": [
    "\n",
    "## Filling all the gaps in time series from the starting of observed dataset till end."
   ]
  },
  {
   "cell_type": "code",
   "execution_count": 20,
   "metadata": {},
   "outputs": [],
   "source": [
    "# Create a complete hourly time index\n",
    "full_time_index = pd.date_range(start=obs_csv.index.min(), end=obs_csv.index.max(), freq='H')\n",
    "\n",
    "# Reindex the DataFrame to this complete index, introducing NaNs for missing timestamps\n",
    "wrf_df = wrf_df.reindex(full_time_index)\n",
    "ecmwf_ensemble_data_df = ecmwf_ensemble_data_df.reindex(full_time_index)\n",
    "ecmwf_single_data_df = ecmwf_single_data_df.reindex(full_time_index)\n",
    "obs_selected = obs_selected.reindex(full_time_index)"
   ]
  },
  {
   "cell_type": "markdown",
   "metadata": {},
   "source": [
    "Reindex and interpolate"
   ]
  },
  {
   "cell_type": "code",
   "execution_count": 21,
   "metadata": {},
   "outputs": [],
   "source": [
    "from joblib import Parallel, delayed  # For parallel processing\n",
    "\n",
    "def interpolate_column(column_data, gap_info, column_name):\n",
    "    \"\"\"\n",
    "    Interpolate only small gaps (fewer than 5 consecutive NaNs).\n",
    "    \"\"\"\n",
    "    small_gap_mask = (gap_info < 5) & gap_info.notna()\n",
    "\n",
    "    # Create a copy of the column to avoid modifying read-only data\n",
    "    column_copy = column_data.copy()\n",
    "\n",
    "    # Interpolate only for the small gaps\n",
    "    column_copy[small_gap_mask] = column_copy.interpolate(method='linear')[small_gap_mask]\n",
    "\n",
    "    return column_copy\n",
    "\n",
    "\n",
    "def process_dataframe(df):\n",
    "    \"\"\"\n",
    "    Process the dataframe, interpolate gaps smaller than 5, and leave large gaps as NaN.\n",
    "    \"\"\"\n",
    "    # Create a DataFrame to store gap size information\n",
    "    gap_info = pd.DataFrame(index=df.index)\n",
    "    \n",
    "    # Calculate the size of NaN gaps for each column in the dataframe\n",
    "    for column in df.columns:\n",
    "        is_nan = df[column].isna().astype(int)\n",
    "        \n",
    "        # Create cumulative IDs for NaN blocks (NaNs get IDs, non-NaNs get 0)\n",
    "        gap_ids = (is_nan != 0).cumsum() * is_nan\n",
    "        \n",
    "        # Count the size of each gap and store it in gap_info (0 for no gap)\n",
    "        gap_info[column] = gap_ids.replace(0, np.nan).map(gap_ids.value_counts())\n",
    "    \n",
    "    # Interpolate columns in parallel, but only for small gaps\n",
    "    results = Parallel(n_jobs=-1)(\n",
    "        delayed(interpolate_column)(df[column], gap_info[column], column) \n",
    "        for column in df.columns\n",
    "    )\n",
    "    \n",
    "    # Combine the results back into a DataFrame\n",
    "    interpolated_df = pd.concat(results, axis=1)\n",
    "    \n",
    "    return interpolated_df"
   ]
  },
  {
   "cell_type": "code",
   "execution_count": 22,
   "metadata": {},
   "outputs": [],
   "source": [
    "datasets = [ecmwf_ensemble_data_df, ecmwf_single_data_df, wrf_df]\n",
    "\n",
    "# Process each DataFrame\n",
    "processed_datasets = [process_dataframe(df) for df in datasets]\n",
    "\n",
    "# Assign the processed dataframes back to the original variables\n",
    "ecmwf_ensemble_data_df, ecmwf_single_data_df, wrf_df = processed_datasets\n"
   ]
  },
  {
   "cell_type": "markdown",
   "metadata": {},
   "source": [
    "### Convert Temperature to Kelvin"
   ]
  },
  {
   "cell_type": "code",
   "execution_count": 23,
   "metadata": {},
   "outputs": [],
   "source": [
    "# List of columns in Celsius that need to be converted to Kelvin\n",
    "celsius_columns = ['TMaxDaily', 'TMinDaily','t2_24h_max','t2_24h_min','t2m', 't850p', 'tdwpt', 'tmax', 'tmin']\n",
    "\n",
    "# Convert each column from Celsius to Kelvin by adding 273.15\n",
    "for col in celsius_columns:\n",
    "    if col in ecmwf_ensemble_data_df.columns:\n",
    "        ecmwf_ensemble_data_df[col] = ecmwf_ensemble_data_df[col] + 273.15\n"
   ]
  },
  {
   "cell_type": "code",
   "execution_count": 24,
   "metadata": {},
   "outputs": [],
   "source": [
    "celsius_columns = ['t2m', 't500p', 't700p', 't850p', 'tdwpt', 'tmax', 'tmin']\n",
    "\n",
    "for col in celsius_columns:\n",
    "    if col in ecmwf_single_data_df.columns:\n",
    "        ecmwf_single_data_df[col] = ecmwf_single_data_df[col] + 273.15"
   ]
  },
  {
   "cell_type": "code",
   "execution_count": 25,
   "metadata": {},
   "outputs": [],
   "source": [
    "celsius_columns = ['t2mc', 'tdp10m', 'tdp700hPa', 'thw700hPa', 'thw850hPa', \n",
    "                   'thw900hPa', 'tmc10m', 'tmc500m', 'tmc700hPa', 'tmc850m']\n",
    "for col in celsius_columns:\n",
    "    if col in wrf_df.columns:\n",
    "        wrf_df[col] = wrf_df[col] + 273.15"
   ]
  },
  {
   "cell_type": "markdown",
   "metadata": {},
   "source": [
    "### Combining WRF with Observed data"
   ]
  },
  {
   "cell_type": "markdown",
   "metadata": {},
   "source": [
    "WRF and OBS_Selected"
   ]
  },
  {
   "cell_type": "code",
   "execution_count": 26,
   "metadata": {},
   "outputs": [
    {
     "data": {
      "text/html": [
       "<div>\n",
       "<style scoped>\n",
       "    .dataframe tbody tr th:only-of-type {\n",
       "        vertical-align: middle;\n",
       "    }\n",
       "\n",
       "    .dataframe tbody tr th {\n",
       "        vertical-align: top;\n",
       "    }\n",
       "\n",
       "    .dataframe thead th {\n",
       "        text-align: right;\n",
       "    }\n",
       "</style>\n",
       "<table border=\"1\" class=\"dataframe\">\n",
       "  <thead>\n",
       "    <tr style=\"text-align: right;\">\n",
       "      <th></th>\n",
       "      <th>WindSpd_01HrAvg</th>\n",
       "      <th>WindRun_01HrAcc</th>\n",
       "      <th>Data_Time_Day__</th>\n",
       "      <th>Data_Time_Hour_</th>\n",
       "      <th>Data_Time_Month</th>\n",
       "      <th>Data_Time_Year_</th>\n",
       "      <th>Stn_Numeric_ID_</th>\n",
       "      <th>wspk10m</th>\n",
       "      <th>uuu30m</th>\n",
       "      <th>vvv10m</th>\n",
       "      <th>lapprs900hPa</th>\n",
       "      <th>uuu10m</th>\n",
       "      <th>wspk115m</th>\n",
       "      <th>vvv850hPa</th>\n",
       "      <th>wspk850hPa</th>\n",
       "      <th>mgust</th>\n",
       "      <th>vvv30m</th>\n",
       "      <th>swdown</th>\n",
       "      <th>uuu500m</th>\n",
       "    </tr>\n",
       "  </thead>\n",
       "  <tbody>\n",
       "    <tr>\n",
       "      <th>2020-01-01 00:00:00</th>\n",
       "      <td>3.6</td>\n",
       "      <td>6.6</td>\n",
       "      <td>1.0</td>\n",
       "      <td>0.0</td>\n",
       "      <td>1.0</td>\n",
       "      <td>2020.0</td>\n",
       "      <td>93245.0</td>\n",
       "      <td>2.380263</td>\n",
       "      <td>1.626894</td>\n",
       "      <td>0.626780</td>\n",
       "      <td>-0.006372</td>\n",
       "      <td>1.054764</td>\n",
       "      <td>4.696848</td>\n",
       "      <td>1.335425</td>\n",
       "      <td>15.493946</td>\n",
       "      <td>3.561901</td>\n",
       "      <td>0.845823</td>\n",
       "      <td>0.000000</td>\n",
       "      <td>5.171541</td>\n",
       "    </tr>\n",
       "    <tr>\n",
       "      <th>2020-01-01 01:00:00</th>\n",
       "      <td>3.0</td>\n",
       "      <td>5.6</td>\n",
       "      <td>1.0</td>\n",
       "      <td>1.0</td>\n",
       "      <td>1.0</td>\n",
       "      <td>2020.0</td>\n",
       "      <td>93245.0</td>\n",
       "      <td>5.646676</td>\n",
       "      <td>2.345904</td>\n",
       "      <td>1.861086</td>\n",
       "      <td>0.000472</td>\n",
       "      <td>2.237920</td>\n",
       "      <td>7.133108</td>\n",
       "      <td>2.084660</td>\n",
       "      <td>14.982606</td>\n",
       "      <td>8.551581</td>\n",
       "      <td>2.098986</td>\n",
       "      <td>1066.496216</td>\n",
       "      <td>6.057760</td>\n",
       "    </tr>\n",
       "    <tr>\n",
       "      <th>2020-01-01 02:00:00</th>\n",
       "      <td>4.7</td>\n",
       "      <td>8.7</td>\n",
       "      <td>1.0</td>\n",
       "      <td>2.0</td>\n",
       "      <td>1.0</td>\n",
       "      <td>2020.0</td>\n",
       "      <td>93245.0</td>\n",
       "      <td>7.276772</td>\n",
       "      <td>3.532361</td>\n",
       "      <td>1.549285</td>\n",
       "      <td>-0.002278</td>\n",
       "      <td>3.416001</td>\n",
       "      <td>9.965518</td>\n",
       "      <td>2.243580</td>\n",
       "      <td>13.812507</td>\n",
       "      <td>11.445700</td>\n",
       "      <td>2.077569</td>\n",
       "      <td>995.973633</td>\n",
       "      <td>7.142349</td>\n",
       "    </tr>\n",
       "    <tr>\n",
       "      <th>2020-01-01 03:00:00</th>\n",
       "      <td>5.3</td>\n",
       "      <td>9.8</td>\n",
       "      <td>1.0</td>\n",
       "      <td>3.0</td>\n",
       "      <td>1.0</td>\n",
       "      <td>2020.0</td>\n",
       "      <td>93245.0</td>\n",
       "      <td>8.022227</td>\n",
       "      <td>4.177358</td>\n",
       "      <td>1.109084</td>\n",
       "      <td>-0.001717</td>\n",
       "      <td>3.983660</td>\n",
       "      <td>11.223358</td>\n",
       "      <td>2.395709</td>\n",
       "      <td>13.520211</td>\n",
       "      <td>12.806604</td>\n",
       "      <td>1.718460</td>\n",
       "      <td>870.108398</td>\n",
       "      <td>7.709311</td>\n",
       "    </tr>\n",
       "    <tr>\n",
       "      <th>2020-01-01 04:00:00</th>\n",
       "      <td>5.1</td>\n",
       "      <td>9.5</td>\n",
       "      <td>1.0</td>\n",
       "      <td>4.0</td>\n",
       "      <td>1.0</td>\n",
       "      <td>2020.0</td>\n",
       "      <td>93245.0</td>\n",
       "      <td>9.278382</td>\n",
       "      <td>5.113938</td>\n",
       "      <td>0.383068</td>\n",
       "      <td>-0.001897</td>\n",
       "      <td>4.767305</td>\n",
       "      <td>12.749887</td>\n",
       "      <td>3.019966</td>\n",
       "      <td>13.839485</td>\n",
       "      <td>14.047289</td>\n",
       "      <td>0.456118</td>\n",
       "      <td>686.462952</td>\n",
       "      <td>7.704032</td>\n",
       "    </tr>\n",
       "    <tr>\n",
       "      <th>...</th>\n",
       "      <td>...</td>\n",
       "      <td>...</td>\n",
       "      <td>...</td>\n",
       "      <td>...</td>\n",
       "      <td>...</td>\n",
       "      <td>...</td>\n",
       "      <td>...</td>\n",
       "      <td>...</td>\n",
       "      <td>...</td>\n",
       "      <td>...</td>\n",
       "      <td>...</td>\n",
       "      <td>...</td>\n",
       "      <td>...</td>\n",
       "      <td>...</td>\n",
       "      <td>...</td>\n",
       "      <td>...</td>\n",
       "      <td>...</td>\n",
       "      <td>...</td>\n",
       "      <td>...</td>\n",
       "    </tr>\n",
       "    <tr>\n",
       "      <th>2024-02-29 19:00:00</th>\n",
       "      <td>3.0</td>\n",
       "      <td>5.6</td>\n",
       "      <td>29.0</td>\n",
       "      <td>19.0</td>\n",
       "      <td>2.0</td>\n",
       "      <td>2024.0</td>\n",
       "      <td>93245.0</td>\n",
       "      <td>8.722954</td>\n",
       "      <td>-2.643019</td>\n",
       "      <td>3.794732</td>\n",
       "      <td>-0.001041</td>\n",
       "      <td>-2.411915</td>\n",
       "      <td>9.553973</td>\n",
       "      <td>5.595749</td>\n",
       "      <td>11.487936</td>\n",
       "      <td>9.845926</td>\n",
       "      <td>4.068942</td>\n",
       "      <td>130.784409</td>\n",
       "      <td>1.240019</td>\n",
       "    </tr>\n",
       "    <tr>\n",
       "      <th>2024-02-29 20:00:00</th>\n",
       "      <td>2.3</td>\n",
       "      <td>4.3</td>\n",
       "      <td>29.0</td>\n",
       "      <td>20.0</td>\n",
       "      <td>2.0</td>\n",
       "      <td>2024.0</td>\n",
       "      <td>93245.0</td>\n",
       "      <td>4.983363</td>\n",
       "      <td>0.075220</td>\n",
       "      <td>2.568546</td>\n",
       "      <td>-0.000359</td>\n",
       "      <td>0.031836</td>\n",
       "      <td>5.100451</td>\n",
       "      <td>5.165204</td>\n",
       "      <td>10.448185</td>\n",
       "      <td>7.988895</td>\n",
       "      <td>2.540745</td>\n",
       "      <td>415.369080</td>\n",
       "      <td>2.766866</td>\n",
       "    </tr>\n",
       "    <tr>\n",
       "      <th>2024-02-29 21:00:00</th>\n",
       "      <td>2.5</td>\n",
       "      <td>4.7</td>\n",
       "      <td>29.0</td>\n",
       "      <td>21.0</td>\n",
       "      <td>2.0</td>\n",
       "      <td>2024.0</td>\n",
       "      <td>93245.0</td>\n",
       "      <td>6.288121</td>\n",
       "      <td>1.014557</td>\n",
       "      <td>3.080597</td>\n",
       "      <td>-0.000355</td>\n",
       "      <td>1.007940</td>\n",
       "      <td>6.392430</td>\n",
       "      <td>7.577478</td>\n",
       "      <td>14.786475</td>\n",
       "      <td>7.216096</td>\n",
       "      <td>3.044406</td>\n",
       "      <td>582.248291</td>\n",
       "      <td>1.121902</td>\n",
       "    </tr>\n",
       "    <tr>\n",
       "      <th>2024-02-29 22:00:00</th>\n",
       "      <td>4.3</td>\n",
       "      <td>7.9</td>\n",
       "      <td>29.0</td>\n",
       "      <td>22.0</td>\n",
       "      <td>2.0</td>\n",
       "      <td>2024.0</td>\n",
       "      <td>93245.0</td>\n",
       "      <td>5.470387</td>\n",
       "      <td>2.779140</td>\n",
       "      <td>0.648184</td>\n",
       "      <td>0.001534</td>\n",
       "      <td>2.744277</td>\n",
       "      <td>5.347490</td>\n",
       "      <td>7.852612</td>\n",
       "      <td>15.258634</td>\n",
       "      <td>5.866057</td>\n",
       "      <td>0.654059</td>\n",
       "      <td>759.054688</td>\n",
       "      <td>0.305835</td>\n",
       "    </tr>\n",
       "    <tr>\n",
       "      <th>2024-02-29 23:00:00</th>\n",
       "      <td>6.2</td>\n",
       "      <td>11.5</td>\n",
       "      <td>29.0</td>\n",
       "      <td>23.0</td>\n",
       "      <td>2.0</td>\n",
       "      <td>2024.0</td>\n",
       "      <td>93245.0</td>\n",
       "      <td>5.933887</td>\n",
       "      <td>3.001120</td>\n",
       "      <td>0.652853</td>\n",
       "      <td>-0.000221</td>\n",
       "      <td>2.988219</td>\n",
       "      <td>5.784158</td>\n",
       "      <td>7.965561</td>\n",
       "      <td>15.625654</td>\n",
       "      <td>6.330163</td>\n",
       "      <td>0.695304</td>\n",
       "      <td>885.041077</td>\n",
       "      <td>0.356534</td>\n",
       "    </tr>\n",
       "  </tbody>\n",
       "</table>\n",
       "<p>36504 rows × 19 columns</p>\n",
       "</div>"
      ],
      "text/plain": [
       "                     WindSpd_01HrAvg  WindRun_01HrAcc  Data_Time_Day__  \\\n",
       "2020-01-01 00:00:00              3.6              6.6              1.0   \n",
       "2020-01-01 01:00:00              3.0              5.6              1.0   \n",
       "2020-01-01 02:00:00              4.7              8.7              1.0   \n",
       "2020-01-01 03:00:00              5.3              9.8              1.0   \n",
       "2020-01-01 04:00:00              5.1              9.5              1.0   \n",
       "...                              ...              ...              ...   \n",
       "2024-02-29 19:00:00              3.0              5.6             29.0   \n",
       "2024-02-29 20:00:00              2.3              4.3             29.0   \n",
       "2024-02-29 21:00:00              2.5              4.7             29.0   \n",
       "2024-02-29 22:00:00              4.3              7.9             29.0   \n",
       "2024-02-29 23:00:00              6.2             11.5             29.0   \n",
       "\n",
       "                     Data_Time_Hour_  Data_Time_Month  Data_Time_Year_  \\\n",
       "2020-01-01 00:00:00              0.0              1.0           2020.0   \n",
       "2020-01-01 01:00:00              1.0              1.0           2020.0   \n",
       "2020-01-01 02:00:00              2.0              1.0           2020.0   \n",
       "2020-01-01 03:00:00              3.0              1.0           2020.0   \n",
       "2020-01-01 04:00:00              4.0              1.0           2020.0   \n",
       "...                              ...              ...              ...   \n",
       "2024-02-29 19:00:00             19.0              2.0           2024.0   \n",
       "2024-02-29 20:00:00             20.0              2.0           2024.0   \n",
       "2024-02-29 21:00:00             21.0              2.0           2024.0   \n",
       "2024-02-29 22:00:00             22.0              2.0           2024.0   \n",
       "2024-02-29 23:00:00             23.0              2.0           2024.0   \n",
       "\n",
       "                     Stn_Numeric_ID_   wspk10m    uuu30m    vvv10m  \\\n",
       "2020-01-01 00:00:00          93245.0  2.380263  1.626894  0.626780   \n",
       "2020-01-01 01:00:00          93245.0  5.646676  2.345904  1.861086   \n",
       "2020-01-01 02:00:00          93245.0  7.276772  3.532361  1.549285   \n",
       "2020-01-01 03:00:00          93245.0  8.022227  4.177358  1.109084   \n",
       "2020-01-01 04:00:00          93245.0  9.278382  5.113938  0.383068   \n",
       "...                              ...       ...       ...       ...   \n",
       "2024-02-29 19:00:00          93245.0  8.722954 -2.643019  3.794732   \n",
       "2024-02-29 20:00:00          93245.0  4.983363  0.075220  2.568546   \n",
       "2024-02-29 21:00:00          93245.0  6.288121  1.014557  3.080597   \n",
       "2024-02-29 22:00:00          93245.0  5.470387  2.779140  0.648184   \n",
       "2024-02-29 23:00:00          93245.0  5.933887  3.001120  0.652853   \n",
       "\n",
       "                     lapprs900hPa    uuu10m   wspk115m  vvv850hPa  wspk850hPa  \\\n",
       "2020-01-01 00:00:00     -0.006372  1.054764   4.696848   1.335425   15.493946   \n",
       "2020-01-01 01:00:00      0.000472  2.237920   7.133108   2.084660   14.982606   \n",
       "2020-01-01 02:00:00     -0.002278  3.416001   9.965518   2.243580   13.812507   \n",
       "2020-01-01 03:00:00     -0.001717  3.983660  11.223358   2.395709   13.520211   \n",
       "2020-01-01 04:00:00     -0.001897  4.767305  12.749887   3.019966   13.839485   \n",
       "...                           ...       ...        ...        ...         ...   \n",
       "2024-02-29 19:00:00     -0.001041 -2.411915   9.553973   5.595749   11.487936   \n",
       "2024-02-29 20:00:00     -0.000359  0.031836   5.100451   5.165204   10.448185   \n",
       "2024-02-29 21:00:00     -0.000355  1.007940   6.392430   7.577478   14.786475   \n",
       "2024-02-29 22:00:00      0.001534  2.744277   5.347490   7.852612   15.258634   \n",
       "2024-02-29 23:00:00     -0.000221  2.988219   5.784158   7.965561   15.625654   \n",
       "\n",
       "                         mgust    vvv30m       swdown   uuu500m  \n",
       "2020-01-01 00:00:00   3.561901  0.845823     0.000000  5.171541  \n",
       "2020-01-01 01:00:00   8.551581  2.098986  1066.496216  6.057760  \n",
       "2020-01-01 02:00:00  11.445700  2.077569   995.973633  7.142349  \n",
       "2020-01-01 03:00:00  12.806604  1.718460   870.108398  7.709311  \n",
       "2020-01-01 04:00:00  14.047289  0.456118   686.462952  7.704032  \n",
       "...                        ...       ...          ...       ...  \n",
       "2024-02-29 19:00:00   9.845926  4.068942   130.784409  1.240019  \n",
       "2024-02-29 20:00:00   7.988895  2.540745   415.369080  2.766866  \n",
       "2024-02-29 21:00:00   7.216096  3.044406   582.248291  1.121902  \n",
       "2024-02-29 22:00:00   5.866057  0.654059   759.054688  0.305835  \n",
       "2024-02-29 23:00:00   6.330163  0.695304   885.041077  0.356534  \n",
       "\n",
       "[36504 rows x 19 columns]"
      ]
     },
     "execution_count": 26,
     "metadata": {},
     "output_type": "execute_result"
    }
   ],
   "source": [
    "joined_df = obs_selected.join(wrf_df, how='inner')\n",
    "joined_df"
   ]
  },
  {
   "cell_type": "markdown",
   "metadata": {},
   "source": [
    "ensemble"
   ]
  },
  {
   "cell_type": "code",
   "execution_count": 27,
   "metadata": {},
   "outputs": [
    {
     "data": {
      "text/plain": [
       "(36504, 29)"
      ]
     },
     "execution_count": 27,
     "metadata": {},
     "output_type": "execute_result"
    }
   ],
   "source": [
    "joined_df = joined_df.join(ecmwf_ensemble_data_df, how='inner')\n",
    "joined_df.shape"
   ]
  },
  {
   "cell_type": "markdown",
   "metadata": {},
   "source": [
    "Single"
   ]
  },
  {
   "cell_type": "code",
   "execution_count": 28,
   "metadata": {},
   "outputs": [
    {
     "data": {
      "text/plain": [
       "(36504, 39)"
      ]
     },
     "execution_count": 28,
     "metadata": {},
     "output_type": "execute_result"
    }
   ],
   "source": [
    "joined_df = joined_df.join(ecmwf_single_data_df, how='inner')\n",
    "joined_df.shape"
   ]
  },
  {
   "cell_type": "code",
   "execution_count": 29,
   "metadata": {},
   "outputs": [],
   "source": [
    "joined_df = process_dataframe(joined_df)"
   ]
  },
  {
   "cell_type": "code",
   "execution_count": 30,
   "metadata": {},
   "outputs": [
    {
     "data": {
      "text/html": [
       "<div>\n",
       "<style scoped>\n",
       "    .dataframe tbody tr th:only-of-type {\n",
       "        vertical-align: middle;\n",
       "    }\n",
       "\n",
       "    .dataframe tbody tr th {\n",
       "        vertical-align: top;\n",
       "    }\n",
       "\n",
       "    .dataframe thead th {\n",
       "        text-align: right;\n",
       "    }\n",
       "</style>\n",
       "<table border=\"1\" class=\"dataframe\">\n",
       "  <thead>\n",
       "    <tr style=\"text-align: right;\">\n",
       "      <th></th>\n",
       "      <th>WindSpd_01HrAvg</th>\n",
       "      <th>WindRun_01HrAcc</th>\n",
       "      <th>Data_Time_Day__</th>\n",
       "      <th>Data_Time_Hour_</th>\n",
       "      <th>Data_Time_Month</th>\n",
       "      <th>Data_Time_Year_</th>\n",
       "      <th>Stn_Numeric_ID_</th>\n",
       "      <th>wspk10m</th>\n",
       "      <th>uuu30m</th>\n",
       "      <th>vvv10m</th>\n",
       "      <th>...</th>\n",
       "      <th>u100m_ES</th>\n",
       "      <th>f100m_ES</th>\n",
       "      <th>rh_ES</th>\n",
       "      <th>ws850p_ES</th>\n",
       "      <th>g10m_ES</th>\n",
       "      <th>u10m_ES</th>\n",
       "      <th>u925p_ES</th>\n",
       "      <th>u850p_ES</th>\n",
       "      <th>f10m_ES</th>\n",
       "      <th>v925p_ES</th>\n",
       "    </tr>\n",
       "  </thead>\n",
       "  <tbody>\n",
       "    <tr>\n",
       "      <th>2020-12-02 06:00:00</th>\n",
       "      <td>7.9</td>\n",
       "      <td>14.6</td>\n",
       "      <td>2.0</td>\n",
       "      <td>6.0</td>\n",
       "      <td>12.0</td>\n",
       "      <td>2020.0</td>\n",
       "      <td>93245.0</td>\n",
       "      <td>12.578768</td>\n",
       "      <td>7.453190</td>\n",
       "      <td>-1.182378</td>\n",
       "      <td>...</td>\n",
       "      <td>10.951114</td>\n",
       "      <td>12.835390</td>\n",
       "      <td>65.919998</td>\n",
       "      <td>11.669450</td>\n",
       "      <td>17.515520</td>\n",
       "      <td>7.689547</td>\n",
       "      <td>12.675340</td>\n",
       "      <td>10.640186</td>\n",
       "      <td>8.980283</td>\n",
       "      <td>-7.736744</td>\n",
       "    </tr>\n",
       "    <tr>\n",
       "      <th>2020-12-02 07:00:00</th>\n",
       "      <td>11.7</td>\n",
       "      <td>21.6</td>\n",
       "      <td>2.0</td>\n",
       "      <td>7.0</td>\n",
       "      <td>12.0</td>\n",
       "      <td>2020.0</td>\n",
       "      <td>93245.0</td>\n",
       "      <td>11.933015</td>\n",
       "      <td>6.953254</td>\n",
       "      <td>-1.231701</td>\n",
       "      <td>...</td>\n",
       "      <td>11.030570</td>\n",
       "      <td>12.588330</td>\n",
       "      <td>70.913330</td>\n",
       "      <td>16.494574</td>\n",
       "      <td>17.555195</td>\n",
       "      <td>7.479177</td>\n",
       "      <td>13.606524</td>\n",
       "      <td>15.597657</td>\n",
       "      <td>8.557570</td>\n",
       "      <td>-6.742427</td>\n",
       "    </tr>\n",
       "    <tr>\n",
       "      <th>2020-12-02 08:00:00</th>\n",
       "      <td>10.3</td>\n",
       "      <td>19.0</td>\n",
       "      <td>2.0</td>\n",
       "      <td>8.0</td>\n",
       "      <td>12.0</td>\n",
       "      <td>2020.0</td>\n",
       "      <td>93245.0</td>\n",
       "      <td>11.287262</td>\n",
       "      <td>6.453318</td>\n",
       "      <td>-1.281024</td>\n",
       "      <td>...</td>\n",
       "      <td>11.110025</td>\n",
       "      <td>12.341271</td>\n",
       "      <td>75.906670</td>\n",
       "      <td>21.319698</td>\n",
       "      <td>17.594872</td>\n",
       "      <td>7.268806</td>\n",
       "      <td>14.537710</td>\n",
       "      <td>20.555128</td>\n",
       "      <td>8.134857</td>\n",
       "      <td>-5.748111</td>\n",
       "    </tr>\n",
       "    <tr>\n",
       "      <th>2020-12-02 09:00:00</th>\n",
       "      <td>9.9</td>\n",
       "      <td>18.3</td>\n",
       "      <td>2.0</td>\n",
       "      <td>9.0</td>\n",
       "      <td>12.0</td>\n",
       "      <td>2020.0</td>\n",
       "      <td>93245.0</td>\n",
       "      <td>10.641509</td>\n",
       "      <td>5.953382</td>\n",
       "      <td>-1.330347</td>\n",
       "      <td>...</td>\n",
       "      <td>11.189482</td>\n",
       "      <td>12.094212</td>\n",
       "      <td>80.900002</td>\n",
       "      <td>26.144821</td>\n",
       "      <td>17.634548</td>\n",
       "      <td>7.058435</td>\n",
       "      <td>15.468895</td>\n",
       "      <td>25.512600</td>\n",
       "      <td>7.712145</td>\n",
       "      <td>-4.753794</td>\n",
       "    </tr>\n",
       "    <tr>\n",
       "      <th>2020-12-02 10:00:00</th>\n",
       "      <td>7.8</td>\n",
       "      <td>14.4</td>\n",
       "      <td>2.0</td>\n",
       "      <td>10.0</td>\n",
       "      <td>12.0</td>\n",
       "      <td>2020.0</td>\n",
       "      <td>93245.0</td>\n",
       "      <td>9.995756</td>\n",
       "      <td>5.453446</td>\n",
       "      <td>-1.379670</td>\n",
       "      <td>...</td>\n",
       "      <td>10.483546</td>\n",
       "      <td>11.104217</td>\n",
       "      <td>81.706665</td>\n",
       "      <td>23.120041</td>\n",
       "      <td>17.674223</td>\n",
       "      <td>6.689790</td>\n",
       "      <td>14.156707</td>\n",
       "      <td>22.347042</td>\n",
       "      <td>7.132487</td>\n",
       "      <td>-2.562408</td>\n",
       "    </tr>\n",
       "    <tr>\n",
       "      <th>...</th>\n",
       "      <td>...</td>\n",
       "      <td>...</td>\n",
       "      <td>...</td>\n",
       "      <td>...</td>\n",
       "      <td>...</td>\n",
       "      <td>...</td>\n",
       "      <td>...</td>\n",
       "      <td>...</td>\n",
       "      <td>...</td>\n",
       "      <td>...</td>\n",
       "      <td>...</td>\n",
       "      <td>...</td>\n",
       "      <td>...</td>\n",
       "      <td>...</td>\n",
       "      <td>...</td>\n",
       "      <td>...</td>\n",
       "      <td>...</td>\n",
       "      <td>...</td>\n",
       "      <td>...</td>\n",
       "      <td>...</td>\n",
       "      <td>...</td>\n",
       "    </tr>\n",
       "    <tr>\n",
       "      <th>2024-02-29 19:00:00</th>\n",
       "      <td>3.0</td>\n",
       "      <td>5.6</td>\n",
       "      <td>29.0</td>\n",
       "      <td>19.0</td>\n",
       "      <td>2.0</td>\n",
       "      <td>2024.0</td>\n",
       "      <td>93245.0</td>\n",
       "      <td>8.722954</td>\n",
       "      <td>-2.643019</td>\n",
       "      <td>3.794732</td>\n",
       "      <td>...</td>\n",
       "      <td>-1.263993</td>\n",
       "      <td>5.064843</td>\n",
       "      <td>87.356667</td>\n",
       "      <td>13.120840</td>\n",
       "      <td>12.126546</td>\n",
       "      <td>-0.534537</td>\n",
       "      <td>1.144080</td>\n",
       "      <td>7.800739</td>\n",
       "      <td>3.029728</td>\n",
       "      <td>4.996991</td>\n",
       "    </tr>\n",
       "    <tr>\n",
       "      <th>2024-02-29 20:00:00</th>\n",
       "      <td>2.3</td>\n",
       "      <td>4.3</td>\n",
       "      <td>29.0</td>\n",
       "      <td>20.0</td>\n",
       "      <td>2.0</td>\n",
       "      <td>2024.0</td>\n",
       "      <td>93245.0</td>\n",
       "      <td>4.983363</td>\n",
       "      <td>0.075220</td>\n",
       "      <td>2.568546</td>\n",
       "      <td>...</td>\n",
       "      <td>0.746368</td>\n",
       "      <td>4.405664</td>\n",
       "      <td>81.133339</td>\n",
       "      <td>11.599823</td>\n",
       "      <td>12.126546</td>\n",
       "      <td>0.934656</td>\n",
       "      <td>2.811529</td>\n",
       "      <td>5.074471</td>\n",
       "      <td>3.056224</td>\n",
       "      <td>4.098211</td>\n",
       "    </tr>\n",
       "    <tr>\n",
       "      <th>2024-02-29 21:00:00</th>\n",
       "      <td>2.5</td>\n",
       "      <td>4.7</td>\n",
       "      <td>29.0</td>\n",
       "      <td>21.0</td>\n",
       "      <td>2.0</td>\n",
       "      <td>2024.0</td>\n",
       "      <td>93245.0</td>\n",
       "      <td>6.288121</td>\n",
       "      <td>1.014557</td>\n",
       "      <td>3.080597</td>\n",
       "      <td>...</td>\n",
       "      <td>2.756728</td>\n",
       "      <td>3.746486</td>\n",
       "      <td>74.910004</td>\n",
       "      <td>10.078805</td>\n",
       "      <td>12.126546</td>\n",
       "      <td>2.403848</td>\n",
       "      <td>4.478978</td>\n",
       "      <td>2.348203</td>\n",
       "      <td>3.082720</td>\n",
       "      <td>3.199431</td>\n",
       "    </tr>\n",
       "    <tr>\n",
       "      <th>2024-02-29 22:00:00</th>\n",
       "      <td>4.3</td>\n",
       "      <td>7.9</td>\n",
       "      <td>29.0</td>\n",
       "      <td>22.0</td>\n",
       "      <td>2.0</td>\n",
       "      <td>2024.0</td>\n",
       "      <td>93245.0</td>\n",
       "      <td>5.470387</td>\n",
       "      <td>2.779140</td>\n",
       "      <td>0.648184</td>\n",
       "      <td>...</td>\n",
       "      <td>2.756728</td>\n",
       "      <td>3.746486</td>\n",
       "      <td>74.910004</td>\n",
       "      <td>10.078805</td>\n",
       "      <td>12.126546</td>\n",
       "      <td>2.403848</td>\n",
       "      <td>4.478978</td>\n",
       "      <td>2.348203</td>\n",
       "      <td>3.082720</td>\n",
       "      <td>3.199431</td>\n",
       "    </tr>\n",
       "    <tr>\n",
       "      <th>2024-02-29 23:00:00</th>\n",
       "      <td>6.2</td>\n",
       "      <td>11.5</td>\n",
       "      <td>29.0</td>\n",
       "      <td>23.0</td>\n",
       "      <td>2.0</td>\n",
       "      <td>2024.0</td>\n",
       "      <td>93245.0</td>\n",
       "      <td>5.933887</td>\n",
       "      <td>3.001120</td>\n",
       "      <td>0.652853</td>\n",
       "      <td>...</td>\n",
       "      <td>2.756728</td>\n",
       "      <td>3.746486</td>\n",
       "      <td>74.910004</td>\n",
       "      <td>10.078805</td>\n",
       "      <td>12.126546</td>\n",
       "      <td>2.403848</td>\n",
       "      <td>4.478978</td>\n",
       "      <td>2.348203</td>\n",
       "      <td>3.082720</td>\n",
       "      <td>3.199431</td>\n",
       "    </tr>\n",
       "  </tbody>\n",
       "</table>\n",
       "<p>28434 rows × 39 columns</p>\n",
       "</div>"
      ],
      "text/plain": [
       "                     WindSpd_01HrAvg  WindRun_01HrAcc  Data_Time_Day__  \\\n",
       "2020-12-02 06:00:00              7.9             14.6              2.0   \n",
       "2020-12-02 07:00:00             11.7             21.6              2.0   \n",
       "2020-12-02 08:00:00             10.3             19.0              2.0   \n",
       "2020-12-02 09:00:00              9.9             18.3              2.0   \n",
       "2020-12-02 10:00:00              7.8             14.4              2.0   \n",
       "...                              ...              ...              ...   \n",
       "2024-02-29 19:00:00              3.0              5.6             29.0   \n",
       "2024-02-29 20:00:00              2.3              4.3             29.0   \n",
       "2024-02-29 21:00:00              2.5              4.7             29.0   \n",
       "2024-02-29 22:00:00              4.3              7.9             29.0   \n",
       "2024-02-29 23:00:00              6.2             11.5             29.0   \n",
       "\n",
       "                     Data_Time_Hour_  Data_Time_Month  Data_Time_Year_  \\\n",
       "2020-12-02 06:00:00              6.0             12.0           2020.0   \n",
       "2020-12-02 07:00:00              7.0             12.0           2020.0   \n",
       "2020-12-02 08:00:00              8.0             12.0           2020.0   \n",
       "2020-12-02 09:00:00              9.0             12.0           2020.0   \n",
       "2020-12-02 10:00:00             10.0             12.0           2020.0   \n",
       "...                              ...              ...              ...   \n",
       "2024-02-29 19:00:00             19.0              2.0           2024.0   \n",
       "2024-02-29 20:00:00             20.0              2.0           2024.0   \n",
       "2024-02-29 21:00:00             21.0              2.0           2024.0   \n",
       "2024-02-29 22:00:00             22.0              2.0           2024.0   \n",
       "2024-02-29 23:00:00             23.0              2.0           2024.0   \n",
       "\n",
       "                     Stn_Numeric_ID_    wspk10m    uuu30m    vvv10m  ...  \\\n",
       "2020-12-02 06:00:00          93245.0  12.578768  7.453190 -1.182378  ...   \n",
       "2020-12-02 07:00:00          93245.0  11.933015  6.953254 -1.231701  ...   \n",
       "2020-12-02 08:00:00          93245.0  11.287262  6.453318 -1.281024  ...   \n",
       "2020-12-02 09:00:00          93245.0  10.641509  5.953382 -1.330347  ...   \n",
       "2020-12-02 10:00:00          93245.0   9.995756  5.453446 -1.379670  ...   \n",
       "...                              ...        ...       ...       ...  ...   \n",
       "2024-02-29 19:00:00          93245.0   8.722954 -2.643019  3.794732  ...   \n",
       "2024-02-29 20:00:00          93245.0   4.983363  0.075220  2.568546  ...   \n",
       "2024-02-29 21:00:00          93245.0   6.288121  1.014557  3.080597  ...   \n",
       "2024-02-29 22:00:00          93245.0   5.470387  2.779140  0.648184  ...   \n",
       "2024-02-29 23:00:00          93245.0   5.933887  3.001120  0.652853  ...   \n",
       "\n",
       "                      u100m_ES   f100m_ES      rh_ES  ws850p_ES    g10m_ES  \\\n",
       "2020-12-02 06:00:00  10.951114  12.835390  65.919998  11.669450  17.515520   \n",
       "2020-12-02 07:00:00  11.030570  12.588330  70.913330  16.494574  17.555195   \n",
       "2020-12-02 08:00:00  11.110025  12.341271  75.906670  21.319698  17.594872   \n",
       "2020-12-02 09:00:00  11.189482  12.094212  80.900002  26.144821  17.634548   \n",
       "2020-12-02 10:00:00  10.483546  11.104217  81.706665  23.120041  17.674223   \n",
       "...                        ...        ...        ...        ...        ...   \n",
       "2024-02-29 19:00:00  -1.263993   5.064843  87.356667  13.120840  12.126546   \n",
       "2024-02-29 20:00:00   0.746368   4.405664  81.133339  11.599823  12.126546   \n",
       "2024-02-29 21:00:00   2.756728   3.746486  74.910004  10.078805  12.126546   \n",
       "2024-02-29 22:00:00   2.756728   3.746486  74.910004  10.078805  12.126546   \n",
       "2024-02-29 23:00:00   2.756728   3.746486  74.910004  10.078805  12.126546   \n",
       "\n",
       "                      u10m_ES   u925p_ES   u850p_ES   f10m_ES  v925p_ES  \n",
       "2020-12-02 06:00:00  7.689547  12.675340  10.640186  8.980283 -7.736744  \n",
       "2020-12-02 07:00:00  7.479177  13.606524  15.597657  8.557570 -6.742427  \n",
       "2020-12-02 08:00:00  7.268806  14.537710  20.555128  8.134857 -5.748111  \n",
       "2020-12-02 09:00:00  7.058435  15.468895  25.512600  7.712145 -4.753794  \n",
       "2020-12-02 10:00:00  6.689790  14.156707  22.347042  7.132487 -2.562408  \n",
       "...                       ...        ...        ...       ...       ...  \n",
       "2024-02-29 19:00:00 -0.534537   1.144080   7.800739  3.029728  4.996991  \n",
       "2024-02-29 20:00:00  0.934656   2.811529   5.074471  3.056224  4.098211  \n",
       "2024-02-29 21:00:00  2.403848   4.478978   2.348203  3.082720  3.199431  \n",
       "2024-02-29 22:00:00  2.403848   4.478978   2.348203  3.082720  3.199431  \n",
       "2024-02-29 23:00:00  2.403848   4.478978   2.348203  3.082720  3.199431  \n",
       "\n",
       "[28434 rows x 39 columns]"
      ]
     },
     "execution_count": 30,
     "metadata": {},
     "output_type": "execute_result"
    }
   ],
   "source": [
    "joined_df = joined_df.dropna()\n",
    "joined_df"
   ]
  },
  {
   "cell_type": "markdown",
   "metadata": {},
   "source": [
    "### Updating Future Covariates"
   ]
  },
  {
   "cell_type": "code",
   "execution_count": 31,
   "metadata": {},
   "outputs": [],
   "source": [
    "# Adding '_EE' suffix to future_covariates_ecmwf_ensemble columns\n",
    "future_covariates_ecmwf_ensemble = [col + '_EE' for col in future_covariates_ecmwf_ensemble]\n",
    "\n",
    "# Adding '_ES' suffix to future_covariates_ecmwf_single columns\n",
    "future_covariates_ecmwf_single = [col + '_ES' for col in future_covariates_ecmwf_single]\n",
    "\n",
    "# Combining both lists\n",
    "future_covariates = future_covariates_ecmwf_ensemble + future_covariates_ecmwf_single + future_covariates_wrf"
   ]
  },
  {
   "cell_type": "markdown",
   "metadata": {},
   "source": [
    "## Double checking and deleting gaps that were found to be too big"
   ]
  },
  {
   "cell_type": "code",
   "execution_count": 38,
   "metadata": {},
   "outputs": [],
   "source": [
    "gaps = [\n",
    "    (\"2023-12-01 00:00:00\", \"2023-12-31 23:00:00\"),\n",
    "    (\"2022-01-17 00:00:00\", \"2022-01-29 23:00:00\"),\n",
    "    (\"2022-07-31 18:00:00\", \"2022-08-09 02:00:00\"),\n",
    "    (\"2023-09-26 21:00:00\", \"2023-10-03 03:00:00\"),\n",
    "    (\"2022-05-24 18:00:00\", \"2022-05-30 01:00:00\"),\n",
    "    (\"2022-07-03 18:00:00\", \"2022-07-05 23:00:00\"),\n",
    "    (\"2021-11-05 12:00:00\", \"2021-11-06 23:00:00\"),\n",
    "    (\"2022-02-13 00:00:00\", \"2022-02-13 23:00:00\"),\n",
    "    (\"2022-01-31 07:00:00\", \"2022-01-31 19:00:00\"),\n",
    "    (\"2022-02-05 00:00:00\", \"2022-02-05 12:00:00\"),\n",
    "    (\"2022-08-29 21:00:00\", \"2022-08-30 04:00:00\"),\n",
    "    (\"2023-09-24 13:00:00\", \"2023-09-24 19:00:00\"),\n",
    "    (\"2021-01-26 10:00:00\", \"2021-01-26 15:00:00\"),\n",
    "    (\"2022-01-31 22:00:00\", \"2022-02-01 03:00:00\"),\n",
    "]\n",
    "\n",
    "# Loop over the gaps and set the corresponding ranges back to NaN\n",
    "for gap_start, gap_end in gaps:\n",
    "    # Convert gap_start and gap_end to datetime\n",
    "    gap_start = pd.to_datetime(gap_start)\n",
    "    gap_end = pd.to_datetime(gap_end)\n",
    "    \n",
    "    # Set the values in the specified range back to NaN\n",
    "    joined_df.loc[gap_start:gap_end] = np.nan"
   ]
  },
  {
   "cell_type": "code",
   "execution_count": 39,
   "metadata": {},
   "outputs": [],
   "source": [
    "joined_df.index.name = 'time'\n",
    "joined_df.to_csv('joined_df.csv')"
   ]
  },
  {
   "cell_type": "markdown",
   "metadata": {},
   "source": [
    "## Splitting data into training/validation/test sets "
   ]
  },
  {
   "cell_type": "code",
   "execution_count": 40,
   "metadata": {},
   "outputs": [],
   "source": [
    "n_total = len(joined_df)\n",
    "n_train = int(0.8 * n_total)  # 80% for training\n",
    "n_valid = int(0.1 * n_total)  # 10% for validation\n",
    "n_test = n_total - n_train - n_valid  # Remaining for testing (also 10%)\n",
    "\n",
    "# Step 3: Split the dataframe into train, validation, and test sets\n",
    "train_df = joined_df.iloc[:n_train]  # First 80% for training\n",
    "valid_df = joined_df.iloc[n_train:n_train + n_valid]  # Next 10% for validation\n",
    "test_df = joined_df.iloc[n_train + n_valid:]  # Remaining 10% for testing"
   ]
  },
  {
   "cell_type": "code",
   "execution_count": 41,
   "metadata": {},
   "outputs": [],
   "source": [
    "joined_ts = TimeSeries.from_dataframe(joined_df, freq='1h')\n",
    "train_ts = TimeSeries.from_dataframe(train_df[future_covariates + past_covariates + [target]], freq='h')\n",
    "valid_ts = TimeSeries.from_dataframe(valid_df[future_covariates + past_covariates + [target]], freq='h')\n",
    "test_ts = TimeSeries.from_dataframe(test_df[future_covariates + past_covariates + [target]], freq='h')"
   ]
  },
  {
   "cell_type": "code",
   "execution_count": 42,
   "metadata": {},
   "outputs": [
    {
     "data": {
      "text/plain": [
       "<Axes: xlabel='time'>"
      ]
     },
     "execution_count": 42,
     "metadata": {},
     "output_type": "execute_result"
    },
    {
     "data": {
      "image/png": "[encoded data removed]",
      "text/plain": [
       "<Figure size 1500x500 with 1 Axes>"
      ]
     },
     "metadata": {},
     "output_type": "display_data"
    }
   ],
   "source": [
    "plt.figure(figsize=(15,5))\n",
    "train_ts[target].plot()\n",
    "valid_ts[target].plot()\n",
    "test_ts[target].plot()"
   ]
  },
  {
   "cell_type": "code",
   "execution_count": 43,
   "metadata": {},
   "outputs": [],
   "source": [
    "gaps_df = joined_ts.gaps()\n",
    "gaps_df.to_csv('gaps.csv', index=True)"
   ]
  }
 ],
 "metadata": {
  "kernelspec": {
   "display_name": "py312_sidhant",
   "language": "python",
   "name": "python3"
  },
  "language_info": {
   "codemirror_mode": {
    "name": "ipython",
    "version": 3
   },
   "file_extension": ".py",
   "mimetype": "text/x-python",
   "name": "python",
   "nbconvert_exporter": "python",
   "pygments_lexer": "ipython3",
   "version": "3.12.3"
  }
 },
 "nbformat": 4,
 "nbformat_minor": 2
}
